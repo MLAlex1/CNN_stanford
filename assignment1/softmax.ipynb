{
 "cells": [
  {
   "cell_type": "code",
   "execution_count": null,
   "metadata": {},
   "outputs": [],
   "source": [
    "# This mounts your Google Drive to the Colab VM.\n",
    "from google.colab import drive\n",
    "drive.mount('/content/drive', force_remount=True)\n",
    "\n",
    "# Enter the foldername in your Drive where you have saved the unzipped\n",
    "# assignment folder, e.g. 'cs231n/assignments/assignment1/'\n",
    "FOLDERNAME = None\n",
    "assert FOLDERNAME is not None, \"[!] Enter the foldername.\"\n",
    "\n",
    "# Now that we've mounted your Drive, this ensures that\n",
    "# the Python interpreter of the Colab VM can load\n",
    "# python files from within it.\n",
    "import sys\n",
    "sys.path.append('/content/drive/My Drive/{}'.format(FOLDERNAME))\n",
    "\n",
    "# This downloads the CIFAR-10 dataset to your Drive\n",
    "# if it doesn't already exist.\n",
    "%cd drive/My\\ Drive/$FOLDERNAME/cs231n/datasets/\n",
    "!bash get_datasets.sh\n",
    "%cd /content/drive/My\\ Drive/$FOLDERNAME"
   ]
  },
  {
   "cell_type": "markdown",
   "metadata": {
    "tags": [
     "pdf-title"
    ]
   },
   "source": [
    "# Softmax exercise\n",
    "\n",
    "*Complete and hand in this completed worksheet (including its outputs and any supporting code outside of the worksheet) with your assignment submission. For more details see the [assignments page](http://vision.stanford.edu/teaching/cs231n/assignments.html) on the course website.*\n",
    "\n",
    "This exercise is analogous to the SVM exercise. You will:\n",
    "\n",
    "- implement a fully-vectorized **loss function** for the Softmax classifier\n",
    "- implement the fully-vectorized expression for its **analytic gradient**\n",
    "- **check your implementation** with numerical gradient\n",
    "- use a validation set to **tune the learning rate and regularization** strength\n",
    "- **optimize** the loss function with **SGD**\n",
    "- **visualize** the final learned weights\n"
   ]
  },
  {
   "cell_type": "code",
   "execution_count": 1,
   "metadata": {
    "tags": [
     "pdf-ignore"
    ]
   },
   "outputs": [],
   "source": [
    "import random\n",
    "import numpy as np\n",
    "from cs231n.data_utils import load_CIFAR10\n",
    "import matplotlib.pyplot as plt\n",
    "\n",
    "%matplotlib inline\n",
    "plt.rcParams['figure.figsize'] = (10.0, 8.0) # set default size of plots\n",
    "plt.rcParams['image.interpolation'] = 'nearest'\n",
    "plt.rcParams['image.cmap'] = 'gray'\n",
    "\n",
    "# for auto-reloading extenrnal modules\n",
    "# see http://stackoverflow.com/questions/1907993/autoreload-of-modules-in-ipython\n",
    "%load_ext autoreload\n",
    "%autoreload 2"
   ]
  },
  {
   "cell_type": "code",
   "execution_count": 2,
   "metadata": {
    "tags": [
     "pdf-ignore"
    ]
   },
   "outputs": [
    {
     "name": "stdout",
     "output_type": "stream",
     "text": [
      "Train data shape:  (49000, 3073)\n",
      "Train labels shape:  (49000,)\n",
      "Validation data shape:  (1000, 3073)\n",
      "Validation labels shape:  (1000,)\n",
      "Test data shape:  (1000, 3073)\n",
      "Test labels shape:  (1000,)\n",
      "dev data shape:  (500, 3073)\n",
      "dev labels shape:  (500,)\n"
     ]
    }
   ],
   "source": [
    "def get_CIFAR10_data(num_training=49000, num_validation=1000, num_test=1000, num_dev=500):\n",
    "    \"\"\"\n",
    "    Load the CIFAR-10 dataset from disk and perform preprocessing to prepare\n",
    "    it for the linear classifier. These are the same steps as we used for the\n",
    "    SVM, but condensed to a single function.  \n",
    "    \"\"\"\n",
    "    # Load the raw CIFAR-10 data\n",
    "    cifar10_dir = r\"C:\\Users\\Kraveta\\Desktop\\stanford\\assignment1\\cs231n\\datasets\\cifar-10-batches-py\"\n",
    "\n",
    "    \n",
    "    # Cleaning up variables to prevent loading data multiple times (which may cause memory issue)\n",
    "    try:\n",
    "       del X_train, y_train\n",
    "       del X_test, y_test\n",
    "       print('Clear previously loaded data.')\n",
    "    except:\n",
    "       pass\n",
    "\n",
    "    X_train, y_train, X_test, y_test = load_CIFAR10(cifar10_dir)\n",
    "    \n",
    "    # subsample the data\n",
    "    mask = list(range(num_training, num_training + num_validation))\n",
    "    X_val = X_train[mask]\n",
    "    y_val = y_train[mask]\n",
    "    mask = list(range(num_training))\n",
    "    X_train = X_train[mask]\n",
    "    y_train = y_train[mask]\n",
    "    mask = list(range(num_test))\n",
    "    X_test = X_test[mask]\n",
    "    y_test = y_test[mask]\n",
    "    mask = np.random.choice(num_training, num_dev, replace=False)\n",
    "    X_dev = X_train[mask]\n",
    "    y_dev = y_train[mask]\n",
    "    \n",
    "    # Preprocessing: reshape the image data into rows\n",
    "    X_train = np.reshape(X_train, (X_train.shape[0], -1))\n",
    "    X_val = np.reshape(X_val, (X_val.shape[0], -1))\n",
    "    X_test = np.reshape(X_test, (X_test.shape[0], -1))\n",
    "    X_dev = np.reshape(X_dev, (X_dev.shape[0], -1))\n",
    "    \n",
    "    # Normalize the data: subtract the mean image\n",
    "    mean_image = np.mean(X_train, axis = 0)\n",
    "    X_train -= mean_image\n",
    "    X_val -= mean_image\n",
    "    X_test -= mean_image\n",
    "    X_dev -= mean_image\n",
    "    \n",
    "    # add bias dimension and transform into columns\n",
    "    X_train = np.hstack([X_train, np.ones((X_train.shape[0], 1))])\n",
    "    X_val = np.hstack([X_val, np.ones((X_val.shape[0], 1))])\n",
    "    X_test = np.hstack([X_test, np.ones((X_test.shape[0], 1))])\n",
    "    X_dev = np.hstack([X_dev, np.ones((X_dev.shape[0], 1))])\n",
    "    \n",
    "    return X_train, y_train, X_val, y_val, X_test, y_test, X_dev, y_dev\n",
    "\n",
    "\n",
    "# Invoke the above function to get our data.\n",
    "X_train, y_train, X_val, y_val, X_test, y_test, X_dev, y_dev = get_CIFAR10_data()\n",
    "print('Train data shape: ', X_train.shape)\n",
    "print('Train labels shape: ', y_train.shape)\n",
    "print('Validation data shape: ', X_val.shape)\n",
    "print('Validation labels shape: ', y_val.shape)\n",
    "print('Test data shape: ', X_test.shape)\n",
    "print('Test labels shape: ', y_test.shape)\n",
    "print('dev data shape: ', X_dev.shape)\n",
    "print('dev labels shape: ', y_dev.shape)"
   ]
  },
  {
   "cell_type": "markdown",
   "metadata": {},
   "source": [
    "## Softmax Classifier\n",
    "\n",
    "Your code for this section will all be written inside `cs231n/classifiers/softmax.py`.\n"
   ]
  },
  {
   "cell_type": "code",
   "execution_count": null,
   "metadata": {},
   "outputs": [],
   "source": [
    "# First implement the naive softmax loss function with nested loops.\n",
    "# Open the file cs231n/classifiers/softmax.py and implement the\n",
    "# softmax_loss_naive function.\n",
    "\n",
    "from cs231n.classifiers.softmax import softmax_loss_naive\n",
    "import time\n",
    "\n",
    "# Generate a random softmax weight matrix and use it to compute the loss.\n",
    "W = np.random.randn(3073, 10) * 0.0001\n",
    "loss, grad = softmax_loss_naive(W, X_dev, y_dev, 0.0)\n",
    "\n",
    "# As a rough sanity check, our loss should be something close to -log(0.1).\n",
    "print('loss: %f' % loss)\n",
    "print('sanity check: %f' % (-np.log(0.1)))"
   ]
  },
  {
   "cell_type": "code",
   "execution_count": 30,
   "metadata": {},
   "outputs": [],
   "source": [
    "y_onehot = np.zeros((y_dev.size, y_dev.max()+1))\n",
    "y_onehot[np.arange(y_dev.size),y_dev] = 1\n"
   ]
  },
  {
   "cell_type": "code",
   "execution_count": 31,
   "metadata": {},
   "outputs": [
    {
     "data": {
      "text/plain": [
       "array([[0., 0., 0., ..., 1., 0., 0.],\n",
       "       [0., 0., 0., ..., 0., 0., 0.],\n",
       "       [0., 0., 0., ..., 0., 1., 0.],\n",
       "       ...,\n",
       "       [0., 0., 0., ..., 0., 0., 1.],\n",
       "       [0., 0., 0., ..., 0., 0., 0.],\n",
       "       [0., 0., 0., ..., 0., 0., 0.]])"
      ]
     },
     "execution_count": 31,
     "metadata": {},
     "output_type": "execute_result"
    }
   ],
   "source": [
    "y_onehot"
   ]
  },
  {
   "cell_type": "code",
   "execution_count": 29,
   "metadata": {},
   "outputs": [
    {
     "data": {
      "text/plain": [
       "array([7, 3, 8, 7, 7, 3, 6, 2, 9, 3, 7, 0, 0, 9, 3, 8, 9, 5, 8, 8, 3, 7,\n",
       "       9, 1, 2, 9, 8, 2, 8, 5, 8, 7, 3, 8, 8, 6, 7, 5, 2, 7, 8, 6, 6, 1,\n",
       "       3, 3, 9, 5, 5, 3, 0, 6, 2, 8, 4, 5, 2, 2, 1, 1, 8, 9, 8, 8, 9, 3,\n",
       "       0, 4, 7, 5, 2, 4, 0, 2, 9, 5, 8, 8, 2, 6, 1, 3, 7, 4, 1, 1, 2, 0,\n",
       "       6, 8, 9, 9, 7, 8, 5, 9, 7, 5, 2, 7, 8, 6, 7, 6, 6, 7, 4, 0, 5, 0,\n",
       "       0, 6, 1, 7, 3, 9, 9, 6, 3, 8, 9, 0, 9, 9, 3, 5, 3, 7, 4, 3, 1, 7,\n",
       "       3, 8, 2, 9, 7, 3, 1, 0, 1, 0, 7, 5, 7, 5, 2, 5, 8, 3, 5, 7, 0, 2,\n",
       "       9, 7, 2, 1, 3, 6, 9, 1, 9, 6, 7, 2, 7, 5, 6, 0, 7, 1, 8, 3, 0, 1,\n",
       "       5, 7, 1, 7, 4, 8, 1, 1, 7, 5, 7, 4, 2, 0, 2, 3, 8, 3, 0, 6, 0, 6,\n",
       "       7, 5, 1, 5, 1, 6, 1, 1, 8, 1, 8, 7, 9, 5, 5, 8, 6, 7, 9, 9, 5, 0,\n",
       "       7, 1, 1, 1, 5, 8, 8, 7, 9, 0, 0, 2, 2, 3, 1, 8, 8, 1, 7, 9, 8, 9,\n",
       "       8, 0, 0, 3, 4, 9, 6, 8, 2, 6, 9, 5, 8, 7, 3, 4, 5, 4, 5, 4, 6, 4,\n",
       "       0, 7, 0, 6, 9, 6, 3, 7, 9, 4, 2, 7, 4, 2, 8, 7, 2, 6, 5, 3, 5, 6,\n",
       "       5, 7, 9, 2, 0, 9, 2, 8, 2, 2, 0, 5, 6, 6, 2, 8, 1, 7, 4, 1, 3, 8,\n",
       "       2, 8, 7, 5, 6, 8, 8, 7, 1, 9, 4, 5, 6, 3, 7, 8, 5, 4, 0, 0, 7, 1,\n",
       "       5, 4, 1, 8, 0, 8, 1, 8, 0, 6, 0, 5, 6, 1, 9, 3, 6, 8, 6, 6, 7, 6,\n",
       "       4, 7, 3, 7, 8, 7, 7, 4, 3, 1, 1, 1, 9, 2, 5, 3, 0, 0, 8, 6, 1, 1,\n",
       "       5, 3, 7, 0, 4, 4, 6, 0, 7, 9, 9, 3, 9, 1, 6, 4, 4, 9, 5, 8, 7, 0,\n",
       "       5, 8, 0, 3, 5, 8, 4, 1, 3, 1, 0, 0, 5, 2, 3, 3, 2, 8, 8, 4, 1, 5,\n",
       "       2, 2, 9, 8, 7, 4, 2, 2, 2, 1, 6, 9, 0, 0, 9, 5, 9, 4, 0, 7, 2, 2,\n",
       "       0, 0, 6, 5, 0, 1, 7, 8, 4, 7, 7, 2, 8, 5, 3, 5, 3, 9, 3, 0, 2, 6,\n",
       "       3, 0, 4, 6, 2, 3, 0, 7, 2, 3, 5, 3, 3, 0, 0, 1, 1, 9, 6, 4, 5, 5,\n",
       "       0, 7, 7, 9, 4, 8, 4, 4, 5, 8, 6, 1, 5, 9, 4, 6])"
      ]
     },
     "execution_count": 29,
     "metadata": {},
     "output_type": "execute_result"
    }
   ],
   "source": [
    "np.oney_dev"
   ]
  },
  {
   "cell_type": "code",
   "execution_count": 40,
   "metadata": {},
   "outputs": [
    {
     "data": {
      "text/plain": [
       "array([[-157.1567551 , -110.49659184,  -18.98877551, ..., -107.37681633,\n",
       "        -147.91442857, -130.51485714],\n",
       "       [-143.11289796, -132.45273469, -110.94491837, ..., -171.33295918,\n",
       "        -160.87057143,  -83.471     ],\n",
       "       [-163.78295918, -206.12279592, -221.61497959, ..., -103.00302041,\n",
       "        -134.54063265, -143.14106122],\n",
       "       ...,\n",
       "       [-218.22755102, -202.56738776, -184.05957143, ..., -230.44761224,\n",
       "        -214.98522449, -126.58565306],\n",
       "       [-121.13338776, -124.47322449, -142.96540816, ...,  -81.35344898,\n",
       "        -108.89106122,  -86.4914898 ],\n",
       "       [ -39.34763265,  -44.68746939,  -41.17965306, ...,  -37.56769388,\n",
       "         -26.10530612, -153.70573469]])"
      ]
     },
     "execution_count": 40,
     "metadata": {},
     "output_type": "execute_result"
    }
   ],
   "source": [
    "X_dev - X_dev.max(1).reshape(-1,1)"
   ]
  },
  {
   "cell_type": "code",
   "execution_count": 51,
   "metadata": {},
   "outputs": [
    {
     "data": {
      "text/plain": [
       "array([0.06885124, 0.14396844, 0.07726356, 0.10081266, 0.08400108,\n",
       "       0.07546771, 0.13448628, 0.09717027, 0.13284607, 0.08513268])"
      ]
     },
     "execution_count": 51,
     "metadata": {},
     "output_type": "execute_result"
    }
   ],
   "source": [
    "(np.exp(X_dev.dot(W))/np.exp(X_dev.dot(W)).sum(axis=1).reshape(-1,1))[0]"
   ]
  },
  {
   "cell_type": "code",
   "execution_count": 59,
   "metadata": {},
   "outputs": [
    {
     "data": {
      "text/plain": [
       "array([[0.06885124, 0.14396844, 0.07726356, 0.10081266, 0.08400108,\n",
       "        0.07546771, 0.13448628, 0.09717027, 0.13284607, 0.08513268]])"
      ]
     },
     "execution_count": 59,
     "metadata": {},
     "output_type": "execute_result"
    }
   ],
   "source": [
    "(np.exp(X_dev[0].dot(W))/np.exp(X_dev[0].dot(W)).sum().reshape(-1,1))"
   ]
  },
  {
   "cell_type": "code",
   "execution_count": null,
   "metadata": {},
   "outputs": [],
   "source": []
  },
  {
   "cell_type": "code",
   "execution_count": null,
   "metadata": {},
   "outputs": [],
   "source": []
  },
  {
   "cell_type": "code",
   "execution_count": 113,
   "metadata": {},
   "outputs": [
    {
     "data": {
      "text/plain": [
       "array([0.06885124, 0.14396844, 0.07726356, 0.10081266, 0.08400108,\n",
       "       0.07546771, 0.13448628, 0.09717027, 0.13284607, 0.08513268])"
      ]
     },
     "execution_count": 113,
     "metadata": {},
     "output_type": "execute_result"
    }
   ],
   "source": [
    "f = X_dev.dot(W)[0]\n",
    "f = f - f.max().reshape(-1,1)\n",
    "(np.exp(f)/np.exp(f).sum(axis=1).reshape(-1,1))[0]"
   ]
  },
  {
   "cell_type": "code",
   "execution_count": null,
   "metadata": {},
   "outputs": [],
   "source": []
  },
  {
   "cell_type": "code",
   "execution_count": 70,
   "metadata": {},
   "outputs": [],
   "source": [
    "W_toy = np.array([[0.01, -0.05, 0.1, 0.05],[0.7, 0.2, 0.05, 0.16],\n",
    "                  [0, -0.45, -0.2, 0.03]]).transpose()\n",
    "X_toy =  np.array([[-15, 22, -44, 56]])\n",
    "Y_toy = np.array([2])\n",
    "b = np.array([0,0.2,-0.3])"
   ]
  },
  {
   "cell_type": "code",
   "execution_count": 73,
   "metadata": {},
   "outputs": [
    {
     "data": {
      "text/plain": [
       "array([0.35338733])"
      ]
     },
     "execution_count": 73,
     "metadata": {},
     "output_type": "execute_result"
    }
   ],
   "source": [
    "np.exp(X_toy.dot(W_toy[:,2]) + b[2]) / np.sum(np.exp(X_toy.dot(W_toy) + b))"
   ]
  },
  {
   "cell_type": "code",
   "execution_count": 77,
   "metadata": {},
   "outputs": [],
   "source": [
    "def softmax_loss_naive(W, X, y, reg):\n",
    "  \"\"\"\n",
    "  Softmax loss function, naive implementation (with loops)\n",
    "  Inputs have dimension D, there are C classes, and we operate on minibatches\n",
    "  of N examples.\n",
    "  Inputs:\n",
    "  - W: A numpy array of shape (D, C) containing weights.\n",
    "  - X: A numpy array of shape (N, D) containing a minibatch of data.\n",
    "  - y: A numpy array of shape (N,) containing training labels; y[i] = c means\n",
    "    that X[i] has label c, where 0 <= c < C.\n",
    "  - reg: (float) regularization strength\n",
    "  Returns a tuple of:\n",
    "  - loss as single float\n",
    "  - gradient with respect to weights W; an array of same shape as W\n",
    "  \"\"\"\n",
    "  # Initialize the loss and gradient to zero.\n",
    "  loss = 0.0\n",
    "  dW = np.zeros_like(W)\n",
    "\n",
    "  #############################################################################\n",
    "  # TODO: Compute the softmax loss and its gradient using explicit loops.     #\n",
    "  # Store the loss in loss and the gradient in dW. If you are not careful     #\n",
    "  # here, it is easy to run into numeric instability. Don't forget the        #\n",
    "  # regularization!                                                           #\n",
    "  #############################################################################\n",
    "  scores = X.dot(W)\n",
    "  num_train = X.shape[0]\n",
    "  num_classes = W.shape[1]\n",
    "\n",
    "  # Softmax Loss\n",
    "  for i in range(num_train):\n",
    "    f = scores[i] - np.max(scores[i]) # avoid numerical instability\n",
    "    softmax = np.exp(f)/np.sum(np.exp(f))\n",
    "    loss += -np.log(softmax[y[i]])\n",
    "    # Weight Gradients\n",
    "    for j in range(num_classes):\n",
    "      dW[:,j] += X[i] * softmax[j]\n",
    "    dW[:,y[i]] -= X[i]\n",
    "\n",
    "  # Average\n",
    "  loss /= num_train\n",
    "  dW /= num_train\n",
    "\n",
    "  # Regularization\n",
    "  loss += reg * np.sum(W * W)\n",
    "  dW += reg * 2 * W \n",
    "\n",
    "  #############################################################################\n",
    "  #                          END OF YOUR CODE                                 #\n",
    "  #############################################################################\n",
    "\n",
    "  return loss, dW"
   ]
  },
  {
   "cell_type": "code",
   "execution_count": 173,
   "metadata": {},
   "outputs": [],
   "source": [
    "def softmax_loss_naive_mine(W, X, y, reg):\n",
    "    \"\"\"\n",
    "    Softmax loss function, naive implementation (with loops)\n",
    "\n",
    "    Inputs have dimension D, there are C classes, and we operate on minibatches\n",
    "    of N examples.\n",
    "\n",
    "    Inputs:\n",
    "    - W: A numpy array of shape (D, C) containing weights.\n",
    "    - X: A numpy array of shape (N, D) containing a minibatch of data.\n",
    "    - y: A numpy array of shape (N,) containing training labels; y[i] = c means\n",
    "      that X[i] has label c, where 0 <= c < C.\n",
    "    - reg: (float) regularization strength\n",
    "\n",
    "    Returns a tuple of:\n",
    "    - loss as single float\n",
    "    - gradient with respect to weights W; an array of same shape as W\n",
    "    \"\"\"\n",
    "    # Initialize the loss and gradient to zero.\n",
    "    loss = 0.0\n",
    "    dW = np.zeros_like(W)\n",
    "\n",
    "    #############################################################################\n",
    "    # TODO: Compute the softmax loss and its gradient using explicit loops.     #\n",
    "    # Store the loss in loss and the gradient in dW. If you are not careful     #\n",
    "    # here, it is easy to run into numeric instability. Don't forget the        #\n",
    "    # regularization!                                                           #\n",
    "    #############################################################################\n",
    "    # *****START OF YOUR CODE (DO NOT DELETE/MODIFY THIS LINE)*****\n",
    "    num_exm = X.shape[0]\n",
    "    num_cls = W.shape[1]\n",
    "\n",
    "    y_onehot = np.zeros((y_dev.size, y_dev.max()+1))\n",
    "    y_onehot[np.arange(y_dev.size),y_dev] = 1\n",
    "    \n",
    "    for i in range(num_exm):\n",
    "        f = X[i].dot(W)\n",
    "        f = f - f.max().reshape(-1,1)\n",
    "        scores = (np.exp(f)/np.exp(f).sum(axis=1).reshape(-1,1))[0]\n",
    "        for j in range(num_cls):\n",
    "            if y_onehot[i][j] == 1:\n",
    "                loss += -np.log(scores[j]*y_onehot[i][j])\n",
    "            dW[:,j] += X[i] * scores[j]\n",
    "        dW[:,y[i]] -= X[i]\n",
    "    \n",
    "    loss /= num_exm\n",
    "    dW /= num_exm\n",
    "    \n",
    "    loss += reg * np.sum(W * W)\n",
    "    dW += reg * 2 * W \n",
    "\n",
    "    return loss, dW"
   ]
  },
  {
   "cell_type": "code",
   "execution_count": null,
   "metadata": {},
   "outputs": [],
   "source": []
  },
  {
   "cell_type": "code",
   "execution_count": 175,
   "metadata": {},
   "outputs": [
    {
     "data": {
      "text/plain": [
       "array([[-2.37635250e-01, -1.52010931e+00,  1.21349485e+00, ...,\n",
       "         1.36109107e+00, -3.67805058e+00, -4.13055184e+00],\n",
       "       [-2.21296079e+00, -1.14779297e+00,  8.20819949e-01, ...,\n",
       "         9.59633791e-01, -4.53322838e+00, -4.14384124e+00],\n",
       "       [-3.71473805e+00, -1.24894523e+00,  1.88950112e+00, ...,\n",
       "         1.32001305e+00, -6.56239182e+00, -5.42863783e+00],\n",
       "       ...,\n",
       "       [-6.43872778e-01, -1.44151633e+00,  8.05946372e-01, ...,\n",
       "        -2.37611216e+00,  1.36080534e-02,  1.80746528e-01],\n",
       "       [-1.83702218e+00, -2.52931950e+00,  1.17868206e+00, ...,\n",
       "         2.39064332e-01, -2.25795862e+00, -3.94773109e-01],\n",
       "       [-5.39611081e-03,  2.54372399e-03,  1.10774705e-02, ...,\n",
       "        -2.34435929e-02, -2.07070699e-02,  4.84661666e-03]])"
      ]
     },
     "execution_count": 175,
     "metadata": {},
     "output_type": "execute_result"
    }
   ],
   "source": [
    "grad2"
   ]
  },
  {
   "cell_type": "code",
   "execution_count": 177,
   "metadata": {},
   "outputs": [
    {
     "data": {
      "text/plain": [
       "array([[-2.37635250e-01, -1.52010931e+00,  1.21349485e+00, ...,\n",
       "         1.36109107e+00, -3.67805058e+00, -4.13055184e+00],\n",
       "       [-2.21296079e+00, -1.14779297e+00,  8.20819949e-01, ...,\n",
       "         9.59633791e-01, -4.53322838e+00, -4.14384124e+00],\n",
       "       [-3.71473805e+00, -1.24894523e+00,  1.88950112e+00, ...,\n",
       "         1.32001305e+00, -6.56239182e+00, -5.42863783e+00],\n",
       "       ...,\n",
       "       [-6.43872778e-01, -1.44151633e+00,  8.05946372e-01, ...,\n",
       "        -2.37611216e+00,  1.36080534e-02,  1.80746528e-01],\n",
       "       [-1.83702218e+00, -2.52931950e+00,  1.17868206e+00, ...,\n",
       "         2.39064332e-01, -2.25795862e+00, -3.94773109e-01],\n",
       "       [-5.39611081e-03,  2.54372399e-03,  1.10774705e-02, ...,\n",
       "        -2.34435929e-02, -2.07070699e-02,  4.84661666e-03]])"
      ]
     },
     "execution_count": 177,
     "metadata": {},
     "output_type": "execute_result"
    }
   ],
   "source": [
    "grad2"
   ]
  },
  {
   "cell_type": "code",
   "execution_count": 169,
   "metadata": {},
   "outputs": [
    {
     "data": {
      "text/plain": [
       "2.3923282639759136"
      ]
     },
     "execution_count": 169,
     "metadata": {},
     "output_type": "execute_result"
    }
   ],
   "source": [
    "loss1, grad1 = softmax_loss_naive(W, X_dev, y_dev, 0.0)\n",
    "loss1"
   ]
  },
  {
   "cell_type": "code",
   "execution_count": 174,
   "metadata": {},
   "outputs": [
    {
     "data": {
      "text/plain": [
       "2.3923282639759127"
      ]
     },
     "execution_count": 174,
     "metadata": {},
     "output_type": "execute_result"
    }
   ],
   "source": [
    "loss2, grad2 = softmax_loss_naive_mine(W, X_dev, y_dev, 0.0)\n",
    "loss2"
   ]
  },
  {
   "cell_type": "code",
   "execution_count": null,
   "metadata": {},
   "outputs": [],
   "source": []
  },
  {
   "cell_type": "markdown",
   "metadata": {
    "tags": [
     "pdf-inline"
    ]
   },
   "source": [
    "**Inline Question 1**\n",
    "\n",
    "Why do we expect our loss to be close to -log(0.1)? Explain briefly.**\n",
    "\n",
    "$\\color{blue}{\\textit Your Answer:}$ *Fill this in* \n",
    "\n"
   ]
  },
  {
   "cell_type": "code",
   "execution_count": null,
   "metadata": {},
   "outputs": [],
   "source": [
    "# Complete the implementation of softmax_loss_naive and implement a (naive)\n",
    "# version of the gradient that uses nested loops.\n",
    "loss, grad = softmax_loss_naive(W, X_dev, y_dev, 0.0)\n",
    "\n",
    "# As we did for the SVM, use numeric gradient checking as a debugging tool.\n",
    "# The numeric gradient should be close to the analytic gradient.\n",
    "from cs231n.gradient_check import grad_check_sparse\n",
    "f = lambda w: softmax_loss_naive(w, X_dev, y_dev, 0.0)[0]\n",
    "grad_numerical = grad_check_sparse(f, W, grad, 10)\n",
    "\n",
    "# similar to SVM case, do another gradient check with regularization\n",
    "loss, grad = softmax_loss_naive(W, X_dev, y_dev, 5e1)\n",
    "f = lambda w: softmax_loss_naive(w, X_dev, y_dev, 5e1)[0]\n",
    "grad_numerical = grad_check_sparse(f, W, grad, 10)"
   ]
  },
  {
   "cell_type": "code",
   "execution_count": null,
   "metadata": {},
   "outputs": [],
   "source": []
  },
  {
   "cell_type": "code",
   "execution_count": null,
   "metadata": {},
   "outputs": [],
   "source": [
    "# Now that we have a naive implementation of the softmax loss function and its gradient,\n",
    "# implement a vectorized version in softmax_loss_vectorized.\n",
    "# The two versions should compute the same results, but the vectorized version should be\n",
    "# much faster.\n",
    "tic = time.time()\n",
    "loss_naive, grad_naive = softmax_loss_naive(W, X_dev, y_dev, 0.000005)\n",
    "toc = time.time()\n",
    "print('naive loss: %e computed in %fs' % (loss_naive, toc - tic))\n",
    "\n",
    "from cs231n.classifiers.softmax import softmax_loss_vectorized\n",
    "tic = time.time()\n",
    "loss_vectorized, grad_vectorized = softmax_loss_vectorized(W, X_dev, y_dev, 0.000005)\n",
    "toc = time.time()\n",
    "print('vectorized loss: %e computed in %fs' % (loss_vectorized, toc - tic))\n",
    "\n",
    "# As we did for the SVM, we use the Frobenius norm to compare the two versions\n",
    "# of the gradient.\n",
    "grad_difference = np.linalg.norm(grad_naive - grad_vectorized, ord='fro')\n",
    "print('Loss difference: %f' % np.abs(loss_naive - loss_vectorized))\n",
    "print('Gradient difference: %f' % grad_difference)"
   ]
  },
  {
   "cell_type": "code",
   "execution_count": null,
   "metadata": {
    "id": "tuning",
    "tags": [
     "code"
    ]
   },
   "outputs": [],
   "source": [
    "# Use the validation set to tune hyperparameters (regularization strength and\n",
    "# learning rate). You should experiment with different ranges for the learning\n",
    "# rates and regularization strengths; if you are careful you should be able to\n",
    "# get a classification accuracy of over 0.35 on the validation set.\n",
    "\n",
    "from cs231n.classifiers import Softmax\n",
    "results = {}\n",
    "best_val = -1\n",
    "best_softmax = None\n",
    "\n",
    "################################################################################\n",
    "# TODO:                                                                        #\n",
    "# Use the validation set to set the learning rate and regularization strength. #\n",
    "# This should be identical to the validation that you did for the SVM; save    #\n",
    "# the best trained softmax classifer in best_softmax.                          #\n",
    "################################################################################\n",
    "\n",
    "# Provided as a reference. You may or may not want to change these hyperparameters\n",
    "learning_rates = [1e-7, 5e-7]\n",
    "regularization_strengths = [2.5e4, 5e4]\n",
    "\n",
    "# *****START OF YOUR CODE (DO NOT DELETE/MODIFY THIS LINE)*****\n",
    "\n",
    "pass\n",
    "\n",
    "# *****END OF YOUR CODE (DO NOT DELETE/MODIFY THIS LINE)*****\n",
    "    \n",
    "# Print out results.\n",
    "for lr, reg in sorted(results):\n",
    "    train_accuracy, val_accuracy = results[(lr, reg)]\n",
    "    print('lr %e reg %e train accuracy: %f val accuracy: %f' % (\n",
    "                lr, reg, train_accuracy, val_accuracy))\n",
    "    \n",
    "print('best validation accuracy achieved during cross-validation: %f' % best_val)"
   ]
  },
  {
   "cell_type": "code",
   "execution_count": null,
   "metadata": {
    "id": "test"
   },
   "outputs": [],
   "source": [
    "# evaluate on test set\n",
    "# Evaluate the best softmax on test set\n",
    "y_test_pred = best_softmax.predict(X_test)\n",
    "test_accuracy = np.mean(y_test == y_test_pred)\n",
    "print('softmax on raw pixels final test set accuracy: %f' % (test_accuracy, ))"
   ]
  },
  {
   "cell_type": "markdown",
   "metadata": {
    "tags": [
     "pdf-inline"
    ]
   },
   "source": [
    "**Inline Question 2** - *True or False*\n",
    "\n",
    "Suppose the overall training loss is defined as the sum of the per-datapoint loss over all training examples. It is possible to add a new datapoint to a training set that would leave the SVM loss unchanged, but this is not the case with the Softmax classifier loss.\n",
    "\n",
    "$\\color{blue}{\\textit Your Answer:}$\n",
    "\n",
    "\n",
    "$\\color{blue}{\\textit Your Explanation:}$\n",
    "\n"
   ]
  },
  {
   "cell_type": "code",
   "execution_count": null,
   "metadata": {},
   "outputs": [],
   "source": [
    "# Visualize the learned weights for each class\n",
    "w = best_softmax.W[:-1,:] # strip out the bias\n",
    "w = w.reshape(32, 32, 3, 10)\n",
    "\n",
    "w_min, w_max = np.min(w), np.max(w)\n",
    "\n",
    "classes = ['plane', 'car', 'bird', 'cat', 'deer', 'dog', 'frog', 'horse', 'ship', 'truck']\n",
    "for i in range(10):\n",
    "    plt.subplot(2, 5, i + 1)\n",
    "    \n",
    "    # Rescale the weights to be between 0 and 255\n",
    "    wimg = 255.0 * (w[:, :, :, i].squeeze() - w_min) / (w_max - w_min)\n",
    "    plt.imshow(wimg.astype('uint8'))\n",
    "    plt.axis('off')\n",
    "    plt.title(classes[i])"
   ]
  },
  {
   "cell_type": "code",
   "execution_count": null,
   "metadata": {},
   "outputs": [],
   "source": []
  }
 ],
 "metadata": {
  "kernelspec": {
   "display_name": "Python 3",
   "language": "python",
   "name": "python3"
  },
  "language_info": {
   "codemirror_mode": {
    "name": "ipython",
    "version": 3
   },
   "file_extension": ".py",
   "mimetype": "text/x-python",
   "name": "python",
   "nbconvert_exporter": "python",
   "pygments_lexer": "ipython3",
   "version": "3.6.6"
  }
 },
 "nbformat": 4,
 "nbformat_minor": 4
}
