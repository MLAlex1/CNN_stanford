{
 "cells": [
  {
   "cell_type": "code",
   "execution_count": null,
   "metadata": {},
   "outputs": [],
   "source": [
    "# This mounts your Google Drive to the Colab VM.\n",
    "from google.colab import drive\n",
    "drive.mount('/content/drive')\n",
    "\n",
    "# TODO: Enter the foldername in your Drive where you have saved the unzipped\n",
    "# assignment folder, e.g. 'cs231n/assignments/assignment3/'\n",
    "FOLDERNAME = None\n",
    "assert FOLDERNAME is not None, \"[!] Enter the foldername.\"\n",
    "\n",
    "# Now that we've mounted your Drive, this ensures that\n",
    "# the Python interpreter of the Colab VM can load\n",
    "# python files from within it.\n",
    "import sys\n",
    "sys.path.append('/content/drive/My Drive/{}'.format(FOLDERNAME))\n",
    "\n",
    "# This downloads the COCO dataset to your Drive\n",
    "# if it doesn't already exist.\n",
    "%cd /content/drive/My\\ Drive/$FOLDERNAME/cs231n/datasets/\n",
    "!bash get_datasets.sh\n",
    "%cd /content/drive/My\\ Drive/$FOLDERNAME"
   ]
  },
  {
   "cell_type": "markdown",
   "metadata": {
    "tags": [
     "pdf-title"
    ]
   },
   "source": [
    "# Image Captioning with LSTMs\n",
    "In the previous exercise, you implemented a vanilla RNN and applied it to image captioning. In this notebook, you will implement the LSTM update rule and use it for image captioning."
   ]
  },
  {
   "cell_type": "code",
   "execution_count": 1,
   "metadata": {
    "tags": [
     "pdf-ignore"
    ]
   },
   "outputs": [],
   "source": [
    "# Setup cell.\n",
    "import time, os, json\n",
    "import numpy as np\n",
    "import matplotlib.pyplot as plt\n",
    "\n",
    "from cs231n.gradient_check import eval_numerical_gradient, eval_numerical_gradient_array\n",
    "from cs231n.rnn_layers import *\n",
    "from cs231n.captioning_solver import CaptioningSolver\n",
    "from cs231n.classifiers.rnn import CaptioningRNN\n",
    "from cs231n.coco_utils import load_coco_data, sample_coco_minibatch, decode_captions\n",
    "from cs231n.image_utils import image_from_url\n",
    "\n",
    "%matplotlib inline\n",
    "plt.rcParams['figure.figsize'] = (10.0, 8.0) # Set default size of plots.\n",
    "plt.rcParams['image.interpolation'] = 'nearest'\n",
    "plt.rcParams['image.cmap'] = 'gray'\n",
    "\n",
    "%load_ext autoreload\n",
    "%autoreload 2\n",
    "\n",
    "def rel_error(x, y):\n",
    "    \"\"\" returns relative error \"\"\"\n",
    "    return np.max(np.abs(x - y) / (np.maximum(1e-8, np.abs(x) + np.abs(y))))"
   ]
  },
  {
   "cell_type": "markdown",
   "metadata": {},
   "source": [
    "# COCO Dataset\n",
    "As in the previous notebook, we will use the COCO dataset for captioning."
   ]
  },
  {
   "cell_type": "code",
   "execution_count": 532,
   "metadata": {},
   "outputs": [
    {
     "name": "stdout",
     "output_type": "stream",
     "text": [
      "base dir  C:\\Users\\alexe\\Desktop\\stanford_CV\\assignment3_git\\cs231n\\datasets/coco_captioning\n",
      "train_captions <class 'numpy.ndarray'> (400135, 17) int32\n",
      "train_image_idxs <class 'numpy.ndarray'> (400135,) int32\n",
      "val_captions <class 'numpy.ndarray'> (195954, 17) int32\n",
      "val_image_idxs <class 'numpy.ndarray'> (195954,) int32\n",
      "train_features <class 'numpy.ndarray'> (82783, 512) float32\n",
      "val_features <class 'numpy.ndarray'> (40504, 512) float32\n",
      "idx_to_word <class 'list'> 1004\n",
      "word_to_idx <class 'dict'> 1004\n",
      "train_urls <class 'numpy.ndarray'> (82783,) <U63\n",
      "val_urls <class 'numpy.ndarray'> (40504,) <U63\n"
     ]
    }
   ],
   "source": [
    "# Load COCO data from disk into a dictionary.\n",
    "data = load_coco_data(pca_features=True)\n",
    "\n",
    "# Print out all the keys and values from the data dictionary.\n",
    "for k, v in data.items():\n",
    "    if type(v) == np.ndarray:\n",
    "        print(k, type(v), v.shape, v.dtype)\n",
    "    else:\n",
    "        print(k, type(v), len(v))"
   ]
  },
  {
   "cell_type": "markdown",
   "metadata": {},
   "source": [
    "# LSTM\n",
    "A common variant on the vanilla RNN is the Long-Short Term Memory (LSTM) RNN. Vanilla RNNs can be tough to train on long sequences due to vanishing and exploding gradients caused by repeated matrix multiplication. LSTMs solve this problem by replacing the simple update rule of the vanilla RNN with a gating mechanism as follows.\n",
    "\n",
    "Similar to the vanilla RNN, at each timestep we receive an input $x_t\\in\\mathbb{R}^D$ and the previous hidden state $h_{t-1}\\in\\mathbb{R}^H$; the LSTM also maintains an $H$-dimensional *cell state*, so we also receive the previous cell state $c_{t-1}\\in\\mathbb{R}^H$. The learnable parameters of the LSTM are an *input-to-hidden* matrix $W_x\\in\\mathbb{R}^{4H\\times D}$, a *hidden-to-hidden* matrix $W_h\\in\\mathbb{R}^{4H\\times H}$ and a *bias vector* $b\\in\\mathbb{R}^{4H}$.\n",
    "\n",
    "At each timestep we first compute an *activation vector* $a\\in\\mathbb{R}^{4H}$ as $a=W_xx_t + W_hh_{t-1}+b$. We then divide this into four vectors $a_i,a_f,a_o,a_g\\in\\mathbb{R}^H$ where $a_i$ consists of the first $H$ elements of $a$, $a_f$ is the next $H$ elements of $a$, etc. We then compute the *input gate* $g\\in\\mathbb{R}^H$, *forget gate* $f\\in\\mathbb{R}^H$, *output gate* $o\\in\\mathbb{R}^H$ and *block input* $g\\in\\mathbb{R}^H$ as\n",
    "\n",
    "$$\n",
    "i = \\sigma(a_i) \\hspace{2pc}\n",
    "f = \\sigma(a_f) \\hspace{2pc}\n",
    "o = \\sigma(a_o) \\hspace{2pc}\n",
    "g = \\tanh(a_g)\n",
    "$$\n",
    "\n",
    "where $\\sigma$ is the sigmoid function and $\\tanh$ is the hyperbolic tangent, both applied elementwise.\n",
    "\n",
    "Finally we compute the next cell state $c_t$ and next hidden state $h_t$ as\n",
    "\n",
    "$$\n",
    "c_{t} = f\\odot c_{t-1} + i\\odot g \\hspace{4pc}\n",
    "h_t = o\\odot\\tanh(c_t)\n",
    "$$\n",
    "\n",
    "where $\\odot$ is the elementwise product of vectors.\n",
    "\n",
    "In the rest of the notebook we will implement the LSTM update rule and apply it to the image captioning task. \n",
    "\n",
    "In the code, we assume that data is stored in batches so that $X_t \\in \\mathbb{R}^{N\\times D}$ and will work with *transposed* versions of the parameters: $W_x \\in \\mathbb{R}^{D \\times 4H}$, $W_h \\in \\mathbb{R}^{H\\times 4H}$ so that activations $A \\in \\mathbb{R}^{N\\times 4H}$ can be computed efficiently as $A = X_t W_x + H_{t-1} W_h$"
   ]
  },
  {
   "cell_type": "markdown",
   "metadata": {},
   "source": [
    "# LSTM: Step Forward\n",
    "Implement the forward pass for a single timestep of an LSTM in the `lstm_step_forward` function in the file `cs231n/rnn_layers.py`. This should be similar to the `rnn_step_forward` function that you implemented above, but using the LSTM update rule instead.\n",
    "\n",
    "Once you are done, run the following to perform a simple test of your implementation. You should see errors on the order of `e-8` or less."
   ]
  },
  {
   "cell_type": "code",
   "execution_count": 27,
   "metadata": {},
   "outputs": [
    {
     "name": "stdout",
     "output_type": "stream",
     "text": [
      "next_h error:  5.7054131967097955e-09\n",
      "next_c error:  5.8143123088804145e-09\n"
     ]
    }
   ],
   "source": [
    "N, D, H = 3, 4, 5\n",
    "x = np.linspace(-0.4, 1.2, num=N*D).reshape(N, D)\n",
    "prev_h = np.linspace(-0.3, 0.7, num=N*H).reshape(N, H)\n",
    "prev_c = np.linspace(-0.4, 0.9, num=N*H).reshape(N, H)\n",
    "Wx = np.linspace(-2.1, 1.3, num=4*D*H).reshape(D, 4 * H)\n",
    "Wh = np.linspace(-0.7, 2.2, num=4*H*H).reshape(H, 4 * H)\n",
    "b = np.linspace(0.3, 0.7, num=4*H)\n",
    "\n",
    "next_h, next_c, cache = lstm_step_forward(x, prev_h, prev_c, Wx, Wh, b)\n",
    "\n",
    "expected_next_h = np.asarray([\n",
    "    [ 0.24635157,  0.28610883,  0.32240467,  0.35525807,  0.38474904],\n",
    "    [ 0.49223563,  0.55611431,  0.61507696,  0.66844003,  0.7159181 ],\n",
    "    [ 0.56735664,  0.66310127,  0.74419266,  0.80889665,  0.858299  ]])\n",
    "expected_next_c = np.asarray([\n",
    "    [ 0.32986176,  0.39145139,  0.451556,    0.51014116,  0.56717407],\n",
    "    [ 0.66382255,  0.76674007,  0.87195994,  0.97902709,  1.08751345],\n",
    "    [ 0.74192008,  0.90592151,  1.07717006,  1.25120233,  1.42395676]])\n",
    "\n",
    "print('next_h error: ', rel_error(expected_next_h, next_h))\n",
    "print('next_c error: ', rel_error(expected_next_c, next_c))"
   ]
  },
  {
   "cell_type": "code",
   "execution_count": null,
   "metadata": {},
   "outputs": [],
   "source": []
  },
  {
   "cell_type": "code",
   "execution_count": null,
   "metadata": {},
   "outputs": [],
   "source": []
  },
  {
   "cell_type": "markdown",
   "metadata": {},
   "source": [
    "# LSTM: Step Backward\n",
    "Implement the backward pass for a single LSTM timestep in the function `lstm_step_backward` in the file `cs231n/rnn_layers.py`. Once you are done, run the following to perform numeric gradient checking on your implementation. You should see errors on the order of `e-7` or less."
   ]
  },
  {
   "cell_type": "code",
   "execution_count": 85,
   "metadata": {},
   "outputs": [
    {
     "name": "stdout",
     "output_type": "stream",
     "text": [
      "dx error:  5.833434184302307e-10\n",
      "dh error:  3.4168728051126624e-10\n",
      "dc error:  1.5221747946070454e-10\n",
      "dWx error:  1.6933647290937225e-09\n",
      "dWh error:  2.7311389754207126e-08\n",
      "db error:  1.7349350966431763e-10\n"
     ]
    }
   ],
   "source": [
    "np.random.seed(231)\n",
    "\n",
    "N, D, H = 4, 5, 6\n",
    "x = np.random.randn(N, D)\n",
    "prev_h = np.random.randn(N, H)\n",
    "prev_c = np.random.randn(N, H)\n",
    "Wx = np.random.randn(D, 4 * H)\n",
    "Wh = np.random.randn(H, 4 * H)\n",
    "b = np.random.randn(4 * H)\n",
    "\n",
    "next_h, next_c, cache = lstm_step_forward(x, prev_h, prev_c, Wx, Wh, b)\n",
    "\n",
    "dnext_h = np.random.randn(*next_h.shape)\n",
    "dnext_c = np.random.randn(*next_c.shape)\n",
    "\n",
    "fx_h = lambda x: lstm_step_forward(x, prev_h, prev_c, Wx, Wh, b)[0]\n",
    "fh_h = lambda h: lstm_step_forward(x, prev_h, prev_c, Wx, Wh, b)[0]\n",
    "fc_h = lambda c: lstm_step_forward(x, prev_h, prev_c, Wx, Wh, b)[0]\n",
    "fWx_h = lambda Wx: lstm_step_forward(x, prev_h, prev_c, Wx, Wh, b)[0]\n",
    "fWh_h = lambda Wh: lstm_step_forward(x, prev_h, prev_c, Wx, Wh, b)[0]\n",
    "fb_h = lambda b: lstm_step_forward(x, prev_h, prev_c, Wx, Wh, b)[0]\n",
    "\n",
    "fx_c = lambda x: lstm_step_forward(x, prev_h, prev_c, Wx, Wh, b)[1]\n",
    "fh_c = lambda h: lstm_step_forward(x, prev_h, prev_c, Wx, Wh, b)[1]\n",
    "fc_c = lambda c: lstm_step_forward(x, prev_h, prev_c, Wx, Wh, b)[1]\n",
    "fWx_c = lambda Wx: lstm_step_forward(x, prev_h, prev_c, Wx, Wh, b)[1]\n",
    "fWh_c = lambda Wh: lstm_step_forward(x, prev_h, prev_c, Wx, Wh, b)[1]\n",
    "fb_c = lambda b: lstm_step_forward(x, prev_h, prev_c, Wx, Wh, b)[1]\n",
    "\n",
    "num_grad = eval_numerical_gradient_array\n",
    "\n",
    "dx_num = num_grad(fx_h, x, dnext_h) + num_grad(fx_c, x, dnext_c)\n",
    "dh_num = num_grad(fh_h, prev_h, dnext_h) + num_grad(fh_c, prev_h, dnext_c)\n",
    "dc_num = num_grad(fc_h, prev_c, dnext_h) + num_grad(fc_c, prev_c, dnext_c)\n",
    "dWx_num = num_grad(fWx_h, Wx, dnext_h) + num_grad(fWx_c, Wx, dnext_c)\n",
    "dWh_num = num_grad(fWh_h, Wh, dnext_h) + num_grad(fWh_c, Wh, dnext_c)\n",
    "db_num = num_grad(fb_h, b, dnext_h) + num_grad(fb_c, b, dnext_c)\n",
    "\n",
    "dx, dh, dc, dWx, dWh, db = lstm_step_backward(dnext_h, dnext_c, cache)\n",
    "\n",
    "print('dx error: ', rel_error(dx_num, dx))\n",
    "print('dh error: ', rel_error(dh_num, dh))\n",
    "print('dc error: ', rel_error(dc_num, dc))\n",
    "print('dWx error: ', rel_error(dWx_num, dWx))\n",
    "print('dWh error: ', rel_error(dWh_num, dWh))\n",
    "print('db error: ', rel_error(db_num, db))"
   ]
  },
  {
   "cell_type": "code",
   "execution_count": null,
   "metadata": {},
   "outputs": [],
   "source": []
  },
  {
   "cell_type": "code",
   "execution_count": null,
   "metadata": {},
   "outputs": [],
   "source": []
  },
  {
   "cell_type": "code",
   "execution_count": null,
   "metadata": {},
   "outputs": [],
   "source": []
  },
  {
   "cell_type": "code",
   "execution_count": null,
   "metadata": {},
   "outputs": [],
   "source": []
  },
  {
   "cell_type": "markdown",
   "metadata": {},
   "source": [
    "# LSTM: Forward\n",
    "In the function `lstm_forward` in the file `cs231n/rnn_layers.py`, implement the `lstm_forward` function to run an LSTM forward on an entire timeseries of data.\n",
    "\n",
    "When you are done, run the following to check your implementation. You should see an error on the order of `e-7` or less."
   ]
  },
  {
   "cell_type": "code",
   "execution_count": 88,
   "metadata": {},
   "outputs": [
    {
     "name": "stdout",
     "output_type": "stream",
     "text": [
      "h error:  8.610537442272635e-08\n"
     ]
    }
   ],
   "source": [
    "N, D, H, T = 2, 5, 4, 3\n",
    "x = np.linspace(-0.4, 0.6, num=N*T*D).reshape(N, T, D)\n",
    "h0 = np.linspace(-0.4, 0.8, num=N*H).reshape(N, H)\n",
    "Wx = np.linspace(-0.2, 0.9, num=4*D*H).reshape(D, 4 * H)\n",
    "Wh = np.linspace(-0.3, 0.6, num=4*H*H).reshape(H, 4 * H)\n",
    "b = np.linspace(0.2, 0.7, num=4*H)\n",
    "\n",
    "h, cache = lstm_forward(x, h0, Wx, Wh, b)\n",
    "\n",
    "expected_h = np.asarray([\n",
    " [[ 0.01764008,  0.01823233,  0.01882671,  0.0194232 ],\n",
    "  [ 0.11287491,  0.12146228,  0.13018446,  0.13902939],\n",
    "  [ 0.31358768,  0.33338627,  0.35304453,  0.37250975]],\n",
    " [[ 0.45767879,  0.4761092,   0.4936887,   0.51041945],\n",
    "  [ 0.6704845,   0.69350089,  0.71486014,  0.7346449 ],\n",
    "  [ 0.81733511,  0.83677871,  0.85403753,  0.86935314]]])\n",
    "\n",
    "print('h error: ', rel_error(expected_h, h))"
   ]
  },
  {
   "cell_type": "markdown",
   "metadata": {},
   "source": [
    "# LSTM: Backward\n",
    "Implement the backward pass for an LSTM over an entire timeseries of data in the function `lstm_backward` in the file `cs231n/rnn_layers.py`. When you are done, run the following to perform numeric gradient checking on your implementation. You should see errors on the order of `e-8` or less. (For `dWh`, it's fine if your error is on the order of `e-6` or less)."
   ]
  },
  {
   "cell_type": "code",
   "execution_count": 93,
   "metadata": {},
   "outputs": [
    {
     "name": "stdout",
     "output_type": "stream",
     "text": [
      "dx error:  7.148080829944732e-10\n",
      "dh0 error:  2.3824794284312267e-08\n",
      "dWx error:  8.000902497865783e-10\n",
      "dWh error:  6.064215130763785e-07\n",
      "db error:  6.280899116725197e-10\n"
     ]
    }
   ],
   "source": [
    "from cs231n.rnn_layers import lstm_forward, lstm_backward\n",
    "np.random.seed(231)\n",
    "\n",
    "N, D, T, H = 2, 3, 10, 6\n",
    "\n",
    "x = np.random.randn(N, T, D)\n",
    "h0 = np.random.randn(N, H)\n",
    "Wx = np.random.randn(D, 4 * H)\n",
    "Wh = np.random.randn(H, 4 * H)\n",
    "b = np.random.randn(4 * H)\n",
    "\n",
    "out, cache = lstm_forward(x, h0, Wx, Wh, b)\n",
    "\n",
    "dout = np.random.randn(*out.shape)\n",
    "\n",
    "dx, dh0, dWx, dWh, db = lstm_backward(dout, cache)\n",
    "\n",
    "fx = lambda x: lstm_forward(x, h0, Wx, Wh, b)[0]\n",
    "fh0 = lambda h0: lstm_forward(x, h0, Wx, Wh, b)[0]\n",
    "fWx = lambda Wx: lstm_forward(x, h0, Wx, Wh, b)[0]\n",
    "fWh = lambda Wh: lstm_forward(x, h0, Wx, Wh, b)[0]\n",
    "fb = lambda b: lstm_forward(x, h0, Wx, Wh, b)[0]\n",
    "\n",
    "dx_num = eval_numerical_gradient_array(fx, x, dout)\n",
    "dh0_num = eval_numerical_gradient_array(fh0, h0, dout)\n",
    "dWx_num = eval_numerical_gradient_array(fWx, Wx, dout)\n",
    "dWh_num = eval_numerical_gradient_array(fWh, Wh, dout)\n",
    "db_num = eval_numerical_gradient_array(fb, b, dout)\n",
    "\n",
    "print('dx error: ', rel_error(dx_num, dx))\n",
    "print('dh0 error: ', rel_error(dh0_num, dh0))\n",
    "print('dWx error: ', rel_error(dWx_num, dWx))\n",
    "print('dWh error: ', rel_error(dWh_num, dWh))\n",
    "print('db error: ', rel_error(db_num, db))"
   ]
  },
  {
   "cell_type": "markdown",
   "metadata": {},
   "source": [
    "#### Vanishing gradient"
   ]
  },
  {
   "cell_type": "code",
   "execution_count": null,
   "metadata": {},
   "outputs": [],
   "source": []
  },
  {
   "cell_type": "markdown",
   "metadata": {},
   "source": [
    "#### RNN"
   ]
  },
  {
   "cell_type": "code",
   "execution_count": 2,
   "metadata": {},
   "outputs": [],
   "source": [
    "np.random.seed(1)\n",
    "\n",
    "N, D, T, H = 1, 3, 3, 4\n",
    "\n",
    "x = np.random.randn(N, T, D)\n",
    "h0 = np.random.randn(N, H)\n",
    "Wx = np.random.randn(D, H)\n",
    "Wh = np.random.randn(H, H)\n",
    "b = np.random.randn(H)\n",
    "\n",
    "out, cache = rnn_forward(x, h0, Wx, Wh, b)\n",
    "\n",
    "dout = np.random.randn(*out.shape)\n",
    "\n",
    "dx, dh0, dWx, dWh, db = rnn_backward(dout, cache)\n",
    "\n",
    "dh = dout"
   ]
  },
  {
   "cell_type": "code",
   "execution_count": null,
   "metadata": {},
   "outputs": [],
   "source": [
    "# to understand vanishing gradient, as we described in the blog https://medium.com/@alexml0123/backpropagation-and-vanishing-gradient-problem-in-rnn-clearly-explained-efce8824971b,\n",
    "# we need to compute the contribution to individual losses at each timestep. The loop we used to compute the gradient in the tutorial doesn't directly provide us with this information,\n",
    "# thus we need to modify the backpropagation code to compute those components"
   ]
  },
  {
   "cell_type": "code",
   "execution_count": 3,
   "metadata": {},
   "outputs": [],
   "source": [
    "# let's first compute manually all the components of Loss3 with respect to Wx. \n",
    "# There will be 3 components because there are 3 timesteps up to and including Loss3\n",
    "\n",
    "t = 2\n",
    "(xt, _, _, next_h, prev_h) = cache[t]\n",
    "dLdWx_comp1 = xt.T.dot( dh[:, t, :]  * (1 - next_h**2))\n",
    "\n",
    "xt_1 = cache[t-1][0]\n",
    "next_h_1 = cache[t-1][-2]\n",
    "dLdWx_comp2 = xt_1.T.dot((dh[:, t, :]  * (1 - next_h**2)).dot(Wh.T) * (1 - next_h_1**2))\n",
    "\n",
    "xt_2 = cache[t-2][0]\n",
    "next_h_2 = cache[t-2][-2]\n",
    "dLdWx_comp3 = xt_2.T.dot(((dh[:, t, :] * (1 - next_h**2)).dot(Wh.T) * (1 - next_h_1**2)).dot(Wh.T) * (1 - next_h_2**2))"
   ]
  },
  {
   "cell_type": "code",
   "execution_count": null,
   "metadata": {},
   "outputs": [],
   "source": []
  },
  {
   "cell_type": "code",
   "execution_count": 4,
   "metadata": {},
   "outputs": [
    {
     "data": {
      "text/plain": [
       "array([[-0.11265219, -0.32975674,  1.04298019,  0.6696128 ],\n",
       "       [ 0.04854351,  0.13945587, -0.46157534, -0.29297507],\n",
       "       [-0.01994111, -0.04071621,  0.22437918,  0.12942807]])"
      ]
     },
     "execution_count": 4,
     "metadata": {},
     "output_type": "execute_result"
    }
   ],
   "source": [
    "dLdWx_comp1 + dLdWx_comp2 + dLdWx_comp3"
   ]
  },
  {
   "cell_type": "code",
   "execution_count": null,
   "metadata": {},
   "outputs": [],
   "source": []
  },
  {
   "cell_type": "code",
   "execution_count": 863,
   "metadata": {},
   "outputs": [
    {
     "data": {
      "text/plain": [
       "array([[-0.12964021, -0.36447594,  1.01880983,  0.68256384],\n",
       "       [ 0.05655798,  0.15900947, -0.44447492, -0.2977813 ],\n",
       "       [-0.02370473, -0.06664448,  0.18628953,  0.1248069 ]])"
      ]
     },
     "execution_count": 863,
     "metadata": {},
     "output_type": "execute_result"
    }
   ],
   "source": [
    "dLdWx_comp1"
   ]
  },
  {
   "cell_type": "code",
   "execution_count": 680,
   "metadata": {},
   "outputs": [
    {
     "data": {
      "text/plain": [
       "array([[-0.12964824, -0.36447594,  1.01880983,  0.68256384],\n",
       "       [ 0.05656148,  0.15900947, -0.44447492, -0.2977813 ],\n",
       "       [-0.0237062 , -0.06664448,  0.18628953,  0.1248069 ]])"
      ]
     },
     "execution_count": 680,
     "metadata": {},
     "output_type": "execute_result"
    }
   ],
   "source": [
    "# # to evaluate the gradient of L3 with respect to x3\n",
    "# fWx = lambda Wx: rnn_step_forward(x[:, -1, :], next_h_1, Wx, Wh, b)[0]\n",
    "# eval_numerical_gradient_array(fWx, Wx, dout[:, 2, :])"
   ]
  },
  {
   "cell_type": "code",
   "execution_count": 862,
   "metadata": {},
   "outputs": [
    {
     "data": {
      "text/plain": [
       "array([[-0.12964021, -0.36447594,  1.01880983,  0.68256384],\n",
       "       [ 0.05655798,  0.15900947, -0.44447492, -0.2977813 ],\n",
       "       [-0.02370473, -0.06664448,  0.18628953,  0.1248069 ]])"
      ]
     },
     "execution_count": 862,
     "metadata": {},
     "output_type": "execute_result"
    }
   ],
   "source": [
    "# to evaluate the gradient of L3 with respect to x3\n",
    "fWx = lambda Wx: rnn_forward(x[:, -1:, :], next_h_1, Wx, Wh, b)[0][:, -1, :]\n",
    "eval_numerical_gradient_array(fWx, Wx, dout[:, 2, :])"
   ]
  },
  {
   "cell_type": "code",
   "execution_count": null,
   "metadata": {},
   "outputs": [],
   "source": []
  },
  {
   "cell_type": "code",
   "execution_count": null,
   "metadata": {},
   "outputs": [],
   "source": []
  },
  {
   "cell_type": "code",
   "execution_count": 854,
   "metadata": {},
   "outputs": [
    {
     "data": {
      "text/plain": [
       "array([[-0.11265219, -0.32975674,  1.04298019,  0.6696128 ],\n",
       "       [ 0.04854351,  0.13945587, -0.46157534, -0.29297507],\n",
       "       [-0.01994111, -0.04071621,  0.22437918,  0.12942807]])"
      ]
     },
     "execution_count": 854,
     "metadata": {},
     "output_type": "execute_result"
    }
   ],
   "source": [
    "# How L3 (or more precisely, last hidden state (we select [:, -1, :]) as\n",
    "# we compute h instead of losses here assuming the upstream gradient is known - dout)\n",
    "# changes if we change Wx. However, we cannot get individual effect in this way, only the entire\n",
    "# sum, however we can do it as difference. See below\n",
    "fWx = lambda Wx: rnn_forward(x, h0, Wx, Wh, b)[0][:, -1, :]\n",
    "L3_tot = eval_numerical_gradient_array(fWx, Wx, dout[:, -1, :])\n",
    "L3_tot"
   ]
  },
  {
   "cell_type": "code",
   "execution_count": null,
   "metadata": {},
   "outputs": [],
   "source": []
  },
  {
   "cell_type": "code",
   "execution_count": 672,
   "metadata": {},
   "outputs": [
    {
     "data": {
      "text/plain": [
       "array([[-0.12588038, -0.3494092 ,  1.03741126,  0.68272983],\n",
       "       [ 0.05352547,  0.14685732, -0.45947799, -0.29791517],\n",
       "       [-0.01563983, -0.03432602,  0.22618997,  0.12516294]])"
      ]
     },
     "execution_count": 672,
     "metadata": {},
     "output_type": "execute_result"
    }
   ],
   "source": [
    "dLdWx_comp2 + dLdWx_comp1"
   ]
  },
  {
   "cell_type": "code",
   "execution_count": 671,
   "metadata": {},
   "outputs": [
    {
     "data": {
      "text/plain": [
       "array([[-0.12588861, -0.3494091 ,  1.03741094,  0.68272982],\n",
       "       [ 0.05352913,  0.14685725, -0.45947774, -0.29791518],\n",
       "       [-0.0156417 , -0.03432582,  0.22618932,  0.125163  ]])"
      ]
     },
     "execution_count": 671,
     "metadata": {},
     "output_type": "execute_result"
    }
   ],
   "source": [
    "# get the last two sums, i.e., effect of the change in Wx starting from x2 (x2 and x3)\n",
    "# we then can subtract this effect from total L3 effect to get effect for x1 only\n",
    "fWx = lambda Wx: rnn_forward(x[:, 1:, :], next_h_2, Wx, Wh, b)[0][:, -1, :]\n",
    "eval_numerical_gradient_array(fWx, Wx, dout[:, -1, :])"
   ]
  },
  {
   "cell_type": "code",
   "execution_count": 683,
   "metadata": {},
   "outputs": [
    {
     "data": {
      "text/plain": [
       "array([[ 0.01322724,  0.01965264,  0.00556924, -0.01311809],\n",
       "       [-0.00498157, -0.0074015 , -0.00209763,  0.00494056],\n",
       "       [-0.00430122, -0.0063904 , -0.00180996,  0.00426494]])"
      ]
     },
     "execution_count": 683,
     "metadata": {},
     "output_type": "execute_result"
    }
   ],
   "source": [
    "# get the last two sums, i.e., effect of the change in Wx starting from x2 (x2 and x3)\n",
    "# we then can subtract this effect from total L3 effect to get effect for x1 only\n",
    "fWx = lambda Wx: rnn_forward(x[:, 1:, :], next_h_2, Wx, Wh, b)[0][:, -1, :]\n",
    "L3_tot - eval_numerical_gradient_array(fWx, Wx, dout[:, -1, :])"
   ]
  },
  {
   "cell_type": "code",
   "execution_count": 674,
   "metadata": {},
   "outputs": [
    {
     "data": {
      "text/plain": [
       "array([[ 0.0132282 ,  0.01965245,  0.00556892, -0.01311703],\n",
       "       [-0.00498197, -0.00740145, -0.00209735,  0.0049401 ],\n",
       "       [-0.00430128, -0.00639019, -0.00181079,  0.00426513]])"
      ]
     },
     "execution_count": 674,
     "metadata": {},
     "output_type": "execute_result"
    }
   ],
   "source": [
    "dLdWx_comp3"
   ]
  },
  {
   "cell_type": "code",
   "execution_count": null,
   "metadata": {},
   "outputs": [],
   "source": []
  },
  {
   "cell_type": "code",
   "execution_count": 861,
   "metadata": {},
   "outputs": [
    {
     "data": {
      "text/plain": [
       "array([[ 0.00375982,  0.01506674,  0.01860143,  0.00016598],\n",
       "       [-0.0030325 , -0.01215215, -0.01500307, -0.00013388],\n",
       "       [ 0.0080649 ,  0.03231846,  0.03990044,  0.00035604]])"
      ]
     },
     "execution_count": 861,
     "metadata": {},
     "output_type": "execute_result"
    }
   ],
   "source": [
    "# get the middle component, we simply subtract from sum of two components (dLdWx_comp2 + dLdWx_comp1) the first component\n",
    "fWx1 = lambda Wx: rnn_forward(x[:, -1:, :], next_h_1, Wx, Wh, b)[0][:, -1, :] # first component\n",
    "fWx3 = lambda Wx: rnn_forward(x[:, 1:, :], next_h_2, Wx, Wh, b)[0][:, -1, :] # sum of first two components\n",
    "# L3_tot - eval_numerical_gradient_array(fWx1, Wx, dout[:, -1, :]) - (L3_tot - eval_numerical_gradient_array(fWx3, Wx, dout[:, -1, :]))\n",
    "# same as\n",
    "eval_numerical_gradient_array(fWx3, Wx, dout[:, -1, :]) - eval_numerical_gradient_array(fWx1, Wx, dout[:, -1, :])"
   ]
  },
  {
   "cell_type": "code",
   "execution_count": 856,
   "metadata": {},
   "outputs": [
    {
     "data": {
      "text/plain": [
       "array([[ 0.00375982,  0.01506674,  0.01860143,  0.00016598],\n",
       "       [-0.0030325 , -0.01215215, -0.01500307, -0.00013388],\n",
       "       [ 0.0080649 ,  0.03231846,  0.03990044,  0.00035604]])"
      ]
     },
     "execution_count": 856,
     "metadata": {},
     "output_type": "execute_result"
    }
   ],
   "source": [
    "dLdWx_comp2"
   ]
  },
  {
   "cell_type": "code",
   "execution_count": null,
   "metadata": {},
   "outputs": [],
   "source": []
  },
  {
   "cell_type": "code",
   "execution_count": 472,
   "metadata": {},
   "outputs": [
    {
     "data": {
      "text/plain": [
       "array([[-0.11265219, -0.32975674,  1.04298019,  0.6696128 ],\n",
       "       [ 0.04854351,  0.13945587, -0.46157534, -0.29297507],\n",
       "       [-0.01994111, -0.04071621,  0.22437918,  0.12942807]])"
      ]
     },
     "metadata": {},
     "output_type": "display_data"
    }
   ],
   "source": [
    "# this is just for comparison from previous implementation\n",
    "\n",
    "t = 2\n",
    "# (xt, prev_h, _, _, _, next_h) = cache[t]\n",
    "(xt, _, _, next_h, prev_h) = cache[t]\n",
    "dJ3dWxh =            xt.T.dot( dh[:, t, :]  * (1 - cache[t][-2]**2)) + \\\n",
    "          cache[t-1][0].T.dot((dh[:, t, :]  * (1 - cache[t][-2]**2)).dot(Wh.T) * (1 - cache[t-1][-2]**2)) + \\\n",
    "          cache[t-2][0].T.dot(((dh[:, t, :] * (1 - cache[t][-2]**2)).dot(Wh.T) * (1 - cache[t-1][-2]**2)).dot(Wh.T) * (1 - cache[t-2][-2]**2))\n",
    "display(dJ3dWxh)\n",
    "# t = 1\n",
    "# (xt, _, _, next_h, prev_h)  = cache[t]\n",
    "# dJ2dWxh =            xt.T.dot( dh[:, t, :] * (1 - cache[t][-2]**2)) + \\\n",
    "#           cache[t-1][0].T.dot((dh[:, t, :] * (1 - cache[t][-2]**2)).dot(Wh.T) * (1 - cache[t-1][-2]**2))\n",
    "\n",
    "# t = 0\n",
    "# (xt, _, _, next_h, prev_h)  = cache[t]\n",
    "# dJ1dWxh =            xt.T.dot( dh[:, t, :] * (1 - cache[t][-2]**2)) "
   ]
  },
  {
   "cell_type": "code",
   "execution_count": null,
   "metadata": {},
   "outputs": [],
   "source": []
  },
  {
   "cell_type": "code",
   "execution_count": 5,
   "metadata": {},
   "outputs": [],
   "source": [
    "# Now let's do it automatically for all timesteps and all losees \n",
    "\n",
    "# in the losses dict, first key represent the timestep of the loss, while keys within each loss\n",
    "# represent the gradient for each component\n",
    "losses = {i : {x_comp : 0 for x_comp in range(i)} for i in range(T)}\n",
    "dh = dout\n",
    "for i in range(T-1, -1, -1):\n",
    "    mid =  dh[:, i, :]  * (1 - cache[i][-2]**2)\n",
    "    for j in range(i, -1, -1):\n",
    "        xj = cache[j][0]\n",
    "        next_h_j = cache[j-1][-2]\n",
    "        losses[i][j] = xj.T.dot(mid)\n",
    "        mid = mid.dot(Wh.T) * (1 - next_h_j**2)"
   ]
  },
  {
   "cell_type": "code",
   "execution_count": 474,
   "metadata": {},
   "outputs": [
    {
     "data": {
      "text/plain": [
       "(array([[-0.12964021, -0.36447594,  1.01880983,  0.68256384],\n",
       "        [ 0.05655798,  0.15900947, -0.44447492, -0.2977813 ],\n",
       "        [-0.02370473, -0.06664448,  0.18628953,  0.1248069 ]]),\n",
       " array([[ 0.00375982,  0.01506674,  0.01860143,  0.00016598],\n",
       "        [-0.0030325 , -0.01215215, -0.01500307, -0.00013388],\n",
       "        [ 0.0080649 ,  0.03231846,  0.03990044,  0.00035604]]),\n",
       " array([[ 0.0132282 ,  0.01965245,  0.00556892, -0.01311703],\n",
       "        [-0.00498197, -0.00740145, -0.00209735,  0.0049401 ],\n",
       "        [-0.00430128, -0.00639019, -0.00181079,  0.00426513]]))"
      ]
     },
     "execution_count": 474,
     "metadata": {},
     "output_type": "execute_result"
    }
   ],
   "source": [
    "dLdWx_comp1, dLdWx_comp2, dLdWx_comp3"
   ]
  },
  {
   "cell_type": "code",
   "execution_count": 34,
   "metadata": {},
   "outputs": [
    {
     "data": {
      "text/plain": [
       "{0: array([[ 0.0132282 ,  0.01965245,  0.00556892, -0.01311703],\n",
       "        [-0.00498197, -0.00740145, -0.00209735,  0.0049401 ],\n",
       "        [-0.00430128, -0.00639019, -0.00181079,  0.00426513]]),\n",
       " 1: array([[ 0.00375982,  0.01506674,  0.01860143,  0.00016598],\n",
       "        [-0.0030325 , -0.01215215, -0.01500307, -0.00013388],\n",
       "        [ 0.0080649 ,  0.03231846,  0.03990044,  0.00035604]]),\n",
       " 2: array([[-0.12964021, -0.36447594,  1.01880983,  0.68256384],\n",
       "        [ 0.05655798,  0.15900947, -0.44447492, -0.2977813 ],\n",
       "        [-0.02370473, -0.06664448,  0.18628953,  0.1248069 ]])}"
      ]
     },
     "metadata": {},
     "output_type": "display_data"
    }
   ],
   "source": [
    "display(losses[2])"
   ]
  },
  {
   "cell_type": "code",
   "execution_count": 476,
   "metadata": {},
   "outputs": [
    {
     "data": {
      "text/plain": [
       "array([[-0.11265219, -0.32975674,  1.04298019,  0.6696128 ],\n",
       "       [ 0.04854351,  0.13945587, -0.46157534, -0.29297507],\n",
       "       [-0.01994111, -0.04071621,  0.22437918,  0.12942807]])"
      ]
     },
     "execution_count": 476,
     "metadata": {},
     "output_type": "execute_result"
    }
   ],
   "source": [
    "dJ3dWxh"
   ]
  },
  {
   "cell_type": "code",
   "execution_count": 477,
   "metadata": {},
   "outputs": [
    {
     "data": {
      "text/plain": [
       "array([[-0.11265219, -0.32975674,  1.04298019,  0.6696128 ],\n",
       "       [ 0.04854351,  0.13945587, -0.46157534, -0.29297507],\n",
       "       [-0.01994111, -0.04071621,  0.22437918,  0.12942807]])"
      ]
     },
     "execution_count": 477,
     "metadata": {},
     "output_type": "execute_result"
    }
   ],
   "source": [
    "np.sum([losses[2][e] for e in losses[2]], 0)"
   ]
  },
  {
   "cell_type": "code",
   "execution_count": 478,
   "metadata": {},
   "outputs": [
    {
     "data": {
      "text/plain": [
       "True"
      ]
     },
     "execution_count": 478,
     "metadata": {},
     "output_type": "execute_result"
    }
   ],
   "source": [
    "# we can also see that if we sum all the losses across all components we get total gradient for dWx\n",
    "np.allclose(dWx, np.sum([losses[l][e] for l in losses for e in losses[l]], 0))"
   ]
  },
  {
   "cell_type": "markdown",
   "metadata": {},
   "source": [
    "Now looking at the components you should see that component_3, that corresponds to the loss update due to the x3 of this formula\n",
    "\\\n",
    "\\\n",
    "$$\\frac{\\partial L_3}{\\partial W_{xh}} = dout_3\\times(\\frac{\\partial h_3}{\\partial z_{3}}\n",
    "\\frac{\\partial z_3}{\\partial W_{xh}} +\\frac{\\partial h_3}{\\partial z_{3}}\n",
    "\\frac{\\partial z_3}{\\partial h_2}\\frac{\\partial h_2}{\\partial z_2} \\frac{\\partial z_2}{\\partial W_{xh}} +\\frac{\\partial h_3}{\\partial z_{3}}\\frac{\\partial z_3}{\\partial h_2}\\frac{\\partial h_2}{\\partial z_2} \\frac{\\partial z_2}{\\partial h_1}\\frac{\\partial h_1}{\\partial z_1}\\frac{\\partial z_1}{\\partial W_{xh}})$$\n",
    "\n",
    "so this part \n",
    "$$\\frac{\\partial h_3}{\\partial z_{3}}\\frac{\\partial z_3}{\\partial h_2}\\frac{\\partial h_2}{\\partial z_2} \\frac{\\partial z_2}{\\partial h_1}\\frac{\\partial h_1}{\\partial z_1}\\frac{\\partial z_1}{\\partial W_{xh}}$$\n",
    "\\\n",
    "which basically says how much the input in x3 contributes to the L3, we see that this component corresponds to the smallest gradient thus there is not much info in L3 about this part and this is the vanishing gradient problem"
   ]
  },
  {
   "cell_type": "code",
   "execution_count": 504,
   "metadata": {},
   "outputs": [
    {
     "name": "stdout",
     "output_type": "stream",
     "text": [
      "[[-0.12964021 -0.36447594  1.01880983  0.68256384]\n",
      " [ 0.05655798  0.15900947 -0.44447492 -0.2977813 ]\n",
      " [-0.02370473 -0.06664448  0.18628953  0.1248069 ]] \n",
      "\n",
      " [[ 0.00375982  0.01506674  0.01860143  0.00016598]\n",
      " [-0.0030325  -0.01215215 -0.01500307 -0.00013388]\n",
      " [ 0.0080649   0.03231846  0.03990044  0.00035604]] \n",
      "\n",
      " [[ 0.0132282   0.01965245  0.00556892 -0.01311703]\n",
      " [-0.00498197 -0.00740145 -0.00209735  0.0049401 ]\n",
      " [-0.00430128 -0.00639019 -0.00181079  0.00426513]]\n",
      "\n",
      "\n",
      "Let's see the magnitudes of them\n",
      "\n",
      " comp 1: 1.4225029296044476 \n",
      " comp 2: 0.06058764108583098 \n",
      " comp 3: 0.03087853793900866\n"
     ]
    }
   ],
   "source": [
    "print(dLdWx_comp1, \"\\n\\n\", dLdWx_comp2, \"\\n\\n\", dLdWx_comp3)\n",
    "print(\"\\n\")\n",
    "print(\"Let's see the magnitudes of them\")\n",
    "print(\"\\n comp 1:\", np.linalg.norm(dLdWx_comp1), \"\\n comp 2:\", np.linalg.norm(dLdWx_comp2),\"\\n comp 3:\", np.linalg.norm(dLdWx_comp3))"
   ]
  },
  {
   "cell_type": "code",
   "execution_count": 39,
   "metadata": {},
   "outputs": [
    {
     "data": {
      "text/plain": [
       "[array([[ 0.0132282 ,  0.01965245,  0.00556892, -0.01311703],\n",
       "        [-0.00498197, -0.00740145, -0.00209735,  0.0049401 ],\n",
       "        [-0.00430128, -0.00639019, -0.00181079,  0.00426513]]),\n",
       " array([[ 0.00375982,  0.01506674,  0.01860143,  0.00016598],\n",
       "        [-0.0030325 , -0.01215215, -0.01500307, -0.00013388],\n",
       "        [ 0.0080649 ,  0.03231846,  0.03990044,  0.00035604]]),\n",
       " array([[-0.12964021, -0.36447594,  1.01880983,  0.68256384],\n",
       "        [ 0.05655798,  0.15900947, -0.44447492, -0.2977813 ],\n",
       "        [-0.02370473, -0.06664448,  0.18628953,  0.1248069 ]])]"
      ]
     },
     "metadata": {},
     "output_type": "display_data"
    },
    {
     "name": "stdout",
     "output_type": "stream",
     "text": [
      "\n",
      "\n",
      "Let's see the magnitudes of them:\n",
      "\n",
      "\n"
     ]
    },
    {
     "data": {
      "text/plain": [
       "['component 1 : 0.03087853793900866',\n",
       " 'component 2 : 0.06058764108583098',\n",
       " 'component 3 : 1.4225029296044476']"
      ]
     },
     "metadata": {},
     "output_type": "display_data"
    }
   ],
   "source": [
    "display([losses[2][e] for e in losses[2]])\n",
    "print(\"\\n\")\n",
    "print(\"Let's see the magnitudes of them:\")\n",
    "print(\"\\n\")\n",
    "display([f\"component {e+1} : {np.linalg.norm(losses[2][e])}\" for e in losses[2]])"
   ]
  },
  {
   "cell_type": "code",
   "execution_count": 38,
   "metadata": {},
   "outputs": [
    {
     "data": {
      "text/plain": [
       "{0: array([[ 0.0132282 ,  0.01965245,  0.00556892, -0.01311703],\n",
       "        [-0.00498197, -0.00740145, -0.00209735,  0.0049401 ],\n",
       "        [-0.00430128, -0.00639019, -0.00181079,  0.00426513]]),\n",
       " 1: array([[ 0.00375982,  0.01506674,  0.01860143,  0.00016598],\n",
       "        [-0.0030325 , -0.01215215, -0.01500307, -0.00013388],\n",
       "        [ 0.0080649 ,  0.03231846,  0.03990044,  0.00035604]]),\n",
       " 2: array([[-0.12964021, -0.36447594,  1.01880983,  0.68256384],\n",
       "        [ 0.05655798,  0.15900947, -0.44447492, -0.2977813 ],\n",
       "        [-0.02370473, -0.06664448,  0.18628953,  0.1248069 ]])}"
      ]
     },
     "execution_count": 38,
     "metadata": {},
     "output_type": "execute_result"
    }
   ],
   "source": [
    "losses[2]"
   ]
  },
  {
   "cell_type": "code",
   "execution_count": 1073,
   "metadata": {},
   "outputs": [],
   "source": [
    "# Now let's try to see how the gradient vanishes with a longer sequence which is more clear\n",
    "np.random.seed(4)\n",
    "\n",
    "N, D, T, H = 1, 3, 100, 4\n",
    "\n",
    "x = np.random.randn(N, T, D)\n",
    "h0 = np.random.randn(N, H)\n",
    "Wx = np.random.randn(D, H)\n",
    "Wh = np.random.randn(H, H)\n",
    "b = np.random.randn(H)\n",
    "\n",
    "out, cache = rnn_forward(x, h0, Wx, Wh, b)\n",
    "\n",
    "dout = np.random.randn(*out.shape)\n",
    "\n",
    "dx, dh0, dWx, dWh, db = rnn_backward(dout, cache)\n",
    "\n",
    "dh = dout"
   ]
  },
  {
   "cell_type": "code",
   "execution_count": 1043,
   "metadata": {},
   "outputs": [],
   "source": [
    "losses = {i : {x_comp : 0 for x_comp in range(i)} for i in range(T)}\n",
    "dh = dout\n",
    "for i in range(T-1, -1, -1):\n",
    "    mid =  dh[:, i, :]  * (1 - cache[i][-2]**2)\n",
    "    for j in range(i, -1, -1):\n",
    "        xj = cache[j][0]\n",
    "        next_h_j = cache[j-1][-2]\n",
    "        losses[i][j] = xj.T.dot(mid)\n",
    "        mid = mid.dot(Wh.T) * (1 - next_h_j**2)"
   ]
  },
  {
   "cell_type": "code",
   "execution_count": 1044,
   "metadata": {},
   "outputs": [
    {
     "name": "stdout",
     "output_type": "stream",
     "text": [
      "[[-0.18509249 -0.55226125  0.73607008 -0.1122698 ]\n",
      " [-0.05298749 -0.15809899  0.210719   -0.03214012]\n",
      " [ 0.10490278  0.31299887 -0.41717412  0.06362988]]\n",
      "\n",
      "[[ 6.58984104e-05  9.19971355e-09  2.53077815e-04  5.69596285e-04]\n",
      " [-2.48184752e-05 -3.46477042e-09 -9.53134598e-05 -2.14519762e-04]\n",
      " [-2.14275114e-05 -2.99137667e-09 -8.22907221e-05 -1.85209793e-04]]\n"
     ]
    }
   ],
   "source": [
    "# gradient related to the 9th token in the sequence for L9 update\n",
    "print(losses[9][9])\n",
    "print()\n",
    "# gradient related to the 1th token in the sequence for L9 update\n",
    "print(losses[9][0])\n",
    "# we can see the difference in weights"
   ]
  },
  {
   "cell_type": "code",
   "execution_count": null,
   "metadata": {},
   "outputs": [],
   "source": []
  },
  {
   "cell_type": "code",
   "execution_count": 1045,
   "metadata": {
    "scrolled": true,
    "tags": []
   },
   "outputs": [
    {
     "name": "stdout",
     "output_type": "stream",
     "text": [
      "Loss 0\n",
      "component 0 - 2.639022702589412\n",
      "Loss 1\n",
      "component 0 - 0.35851466255055137\n",
      "component 1 - 0.6074057155901502\n",
      "Loss 2\n",
      "component 0 - 0.02246250863922291\n",
      "component 1 - 0.03794331089931439\n",
      "component 2 - 0.4170928808476889\n",
      "Loss 3\n",
      "component 0 - 0.015912679217785775\n",
      "component 1 - 0.026774443897798098\n",
      "component 2 - 0.0812330329579129\n",
      "component 3 - 0.40399673180179607\n",
      "Loss 4\n",
      "component 0 - 0.006651069407462185\n",
      "component 1 - 0.011191304371251974\n",
      "component 2 - 0.0337329969291501\n",
      "component 3 - 0.16742842633403504\n",
      "component 4 - 0.2157415490612246\n",
      "Loss 5\n",
      "component 0 - 0.017857722587679443\n",
      "component 1 - 0.030055903361444685\n",
      "component 2 - 0.08545788785343011\n",
      "component 3 - 0.4284615578764166\n",
      "component 4 - 0.3509073457457624\n",
      "component 5 - 0.4491648235401462\n",
      "Loss 6\n",
      "component 0 - 0.0018401152289203558\n",
      "component 1 - 0.0031072842757313723\n",
      "component 2 - 0.018539407751486263\n",
      "component 3 - 0.0876292252190969\n",
      "component 4 - 0.05637453750209233\n",
      "component 5 - 0.07716675807383126\n",
      "component 6 - 0.1261672475031838\n",
      "Loss 7\n",
      "component 0 - 0.00023017160244774175\n",
      "component 1 - 0.0003871297883553918\n",
      "component 2 - 0.0015376719376008023\n",
      "component 3 - 0.007393219969132659\n",
      "component 4 - 0.005273755752973523\n",
      "component 5 - 0.0055443844872087285\n",
      "component 6 - 0.012725235282902106\n",
      "component 7 - 0.14107292437920455\n",
      "Loss 8\n",
      "component 0 - 0.0005225856406461387\n",
      "component 1 - 0.0008829203472447947\n",
      "component 2 - 0.005393431616938242\n",
      "component 3 - 0.025483425344056173\n",
      "component 4 - 0.01635972897687925\n",
      "component 5 - 0.022994937584405337\n",
      "component 6 - 0.03990539762983594\n",
      "component 7 - 0.39212342586525284\n",
      "component 8 - 0.9232163797427847\n",
      "Loss 9\n",
      "component 0 - 0.000700059867251646\n",
      "component 1 - 0.0011862246976535764\n",
      "component 2 - 0.008042327917238487\n",
      "component 3 - 0.03795652882545342\n",
      "component 4 - 0.02425203663429888\n",
      "component 5 - 0.03748391085306813\n",
      "component 6 - 0.059678883859013154\n",
      "component 7 - 0.587586869917645\n",
      "component 8 - 1.5169256008909238\n",
      "component 9 - 1.11979896940586\n"
     ]
    }
   ],
   "source": [
    "for l in losses:\n",
    "    print(f\"Loss {l}\")\n",
    "    for ii, e in losses[l].items():\n",
    "        print(f\"component {ii} - {np.linalg.norm(e)}\")"
   ]
  },
  {
   "cell_type": "code",
   "execution_count": 1079,
   "metadata": {},
   "outputs": [
    {
     "data": {
      "text/plain": [
       "True"
      ]
     },
     "execution_count": 1079,
     "metadata": {},
     "output_type": "execute_result"
    }
   ],
   "source": [
    "np.allclose(dWx, np.sum([losses[l][e] for l in losses for e in losses[l]], 0))"
   ]
  },
  {
   "cell_type": "code",
   "execution_count": null,
   "metadata": {},
   "outputs": [],
   "source": []
  },
  {
   "cell_type": "code",
   "execution_count": 1080,
   "metadata": {},
   "outputs": [
    {
     "data": {
      "text/plain": [
       "array([[16.73630427, 11.71855786, -6.01988139, -6.1078173 ],\n",
       "       [10.92607916, 18.57099391,  1.51201247, 10.39514205],\n",
       "       [ 9.92566987,  9.48630516, -1.11423128,  3.16016163]])"
      ]
     },
     "execution_count": 1080,
     "metadata": {},
     "output_type": "execute_result"
    }
   ],
   "source": [
    "# total gradients doesn't go to zero, differently from what he says in this article \n",
    "# https://medium.datadriveninvestor.com/how-do-lstm-networks-solve-the-problem-of-vanishing-gradients-a6784971a577\n",
    "dWx"
   ]
  },
  {
   "cell_type": "code",
   "execution_count": 426,
   "metadata": {},
   "outputs": [],
   "source": [
    "# # THIS IS WRONG - IGNORE\n",
    "\n",
    "# # this computes single components, so in the image\n",
    "# # on blog https://medium.com/@alexml0123/backpropagation-and-vanishing-gradient-problem-in-rnn-clearly-explained-efce8824971b\n",
    "# # lis[-1] corresponds to dout3 in the last row, so that single component of the sum\n",
    "# lis = {i : 0 for i in range(T)}\n",
    "# dh = dout\n",
    "# for i in range(T-1, -1, -1):\n",
    "#     mid =  dh[:, i, :]  * (1 - cache[i][-2]**2)\n",
    "#     for j in range(i, -1, -1):\n",
    "#         xj = cache[j][0]\n",
    "#         next_h_j = cache[j-1][-2]\n",
    "#         lis[i] += xj.T.dot(mid)\n",
    "#         mid = mid.dot(Wh.T) * (1 - next_h_j**2)\n",
    "\n",
    "# THIS MIGHT BE USEFUL - it computes results like in the image below in the blog\n",
    "# # this computes dWx for each loop like in the image on blog \n",
    "# # https://medium.com/@alexml0123/backpropagation-and-vanishing-gradient-problem-in-rnn-clearly-explained-efce8824971b\n",
    "# ls = {}\n",
    "# dh = dout\n",
    "# ht_next = 0\n",
    "# for i in range(len(cache)-1, -1, -1):\n",
    "#     ht_next += dh[:, i, :]\n",
    "#     l = cache[i][0].T.dot( ht_next  * (1 - cache[i][-2]**2))\n",
    "#     ls[i] = l\n",
    "#     ht_next = (ht_next  * (1 - cache[i][-2]**2)).dot(Wh.T)"
   ]
  },
  {
   "cell_type": "code",
   "execution_count": null,
   "metadata": {},
   "outputs": [],
   "source": []
  },
  {
   "cell_type": "markdown",
   "metadata": {},
   "source": [
    "#### LSTM"
   ]
  },
  {
   "cell_type": "code",
   "execution_count": 1000,
   "metadata": {},
   "outputs": [],
   "source": [
    "np.random.seed(1)\n",
    "\n",
    "N, D, T, H = 1, 3, 3, 1\n",
    "\n",
    "x = np.random.randn(N, T, D)\n",
    "h0 = np.random.randn(N, H)\n",
    "Wx = np.random.randn(D, 4 * H)\n",
    "Wh = np.random.randn(H, 4 * H)\n",
    "b = np.random.randn(4 * H)\n",
    "\n",
    "out, cache = lstm_forward(x, h0, Wx, Wh, b)\n",
    "\n",
    "dout = np.random.randn(*out.shape)\n",
    "\n",
    "dx, dh0, dWx, dWh, db = lstm_backward(dout, cache)\n",
    "    \n",
    "dh = dout"
   ]
  },
  {
   "cell_type": "code",
   "execution_count": null,
   "metadata": {},
   "outputs": [],
   "source": [
    "# (x, next_h, prev_h, prev_c, Wx, Wh, next_h, next_c_t, i, f, o ,g) = cache"
   ]
  },
  {
   "cell_type": "code",
   "execution_count": 1001,
   "metadata": {},
   "outputs": [],
   "source": [
    "next_h_2 = cache[2][2]\n",
    "# differently from RNN, here we need to pass next_c as well. Normally you wouldn't need to do\n",
    "# it as you would always start from step 1, but here we did that modification to lstm_forward\n",
    "# to make it work for us\n",
    "next_c_2 = cache[2][3]"
   ]
  },
  {
   "cell_type": "code",
   "execution_count": 1002,
   "metadata": {},
   "outputs": [
    {
     "data": {
      "text/plain": [
       "array([[-0.02349287,  0.00135057, -0.11156069, -0.05284914],\n",
       "       [ 0.01024921, -0.00058921,  0.04867045,  0.02305643],\n",
       "       [-0.00429567,  0.00024695, -0.02039889, -0.00966347]])"
      ]
     },
     "execution_count": 1002,
     "metadata": {},
     "output_type": "execute_result"
    }
   ],
   "source": [
    "fWx = lambda Wx: lstm_forward(x[:, -1:, :], next_h_2, Wx, Wh, b, next_c=next_c_2)[0][:, -1, :]\n",
    "eval_numerical_gradient_array(fWx, Wx, dout[:, 2, :])"
   ]
  },
  {
   "cell_type": "code",
   "execution_count": null,
   "metadata": {},
   "outputs": [],
   "source": []
  },
  {
   "cell_type": "code",
   "execution_count": 1003,
   "metadata": {},
   "outputs": [],
   "source": [
    "def dgradmtx(h, dnext_c, dnext_h, prev_c, next_c_t, i, f, o, g):\n",
    "    dgrad = np.zeros((h.shape[0], 4 * h.shape[1]))\n",
    "    assert dgrad.shape[1] % 4 == 0\n",
    "    H = dgrad.shape[1] // 4\n",
    "    \n",
    "    # compute gradients wrt ai, af, ao and ag from two flows - next_h and next_c\n",
    "    dnextc_dai = dnext_c * (i * (1-i)) * g\n",
    "    dnextc_daf = dnext_c * (f * (1-f)) * prev_c\n",
    "    dnextc_dao = 0\n",
    "    dnextc_dag = dnext_c * (1 - g**2) * i\n",
    "\n",
    "    dnexth_dai = dnext_h * o * (1 - next_c_t**2) * (i * (1-i)) * g\n",
    "    dnexth_daf = dnext_h * o * (1 - next_c_t**2) * (f * (1-f)) * prev_c\n",
    "    dnexth_dao = dnext_h * (o * (1-o) * next_c_t)\n",
    "    dnexth_dag = dnext_h * o * (1 - next_c_t**2) * (1 - g**2) * i\n",
    "\n",
    "    # join them together in a matrix at this point to conveniently compute\n",
    "    # downstream gradients \n",
    "    dgrad[:, 0:H] = dnextc_dai + dnexth_dai\n",
    "    dgrad[:, H:2*H] = dnextc_daf + dnexth_daf\n",
    "    dgrad[:, 2*H:3*H] = dnextc_dao + dnexth_dao\n",
    "    dgrad[:, 3*H:4*H] = dnextc_dag + dnexth_dag\n",
    "    \n",
    "    dprev_c = dnext_c * f + dnext_h * o * (1 - next_c_t**2) * f\n",
    "    dprev_h = dgrad @ Wh.T\n",
    "    return dgrad, dprev_h, dprev_c"
   ]
  },
  {
   "cell_type": "code",
   "execution_count": 1004,
   "metadata": {},
   "outputs": [],
   "source": [
    "dnext_c = np.zeros((h0.shape))"
   ]
  },
  {
   "cell_type": "code",
   "execution_count": 1005,
   "metadata": {},
   "outputs": [
    {
     "data": {
      "text/plain": [
       "array([[-0.02349287,  0.00135057, -0.11156069, -0.05284914],\n",
       "       [ 0.01024921, -0.00058921,  0.04867045,  0.02305643],\n",
       "       [-0.00429567,  0.00024695, -0.02039889, -0.00966347]])"
      ]
     },
     "execution_count": 1005,
     "metadata": {},
     "output_type": "execute_result"
    }
   ],
   "source": [
    "# first component\n",
    "dgrad, _, _ = dgradmtx(h0, dnext_c, dout[:, 2, :], cache[2][3], cache[2][-5], cache[2][-4],  cache[2][-3], cache[2][-2], cache[2][-1])      \n",
    "cache[2][0].T @ dgrad"
   ]
  },
  {
   "cell_type": "code",
   "execution_count": null,
   "metadata": {},
   "outputs": [],
   "source": []
  },
  {
   "cell_type": "code",
   "execution_count": null,
   "metadata": {},
   "outputs": [],
   "source": []
  },
  {
   "cell_type": "code",
   "execution_count": 1006,
   "metadata": {},
   "outputs": [],
   "source": [
    "next_h_2 = cache[2][2]\n",
    "next_c_2 = cache[2][3]\n",
    "\n",
    "next_h_1 = cache[1][2]\n",
    "next_c_1 = cache[1][3]"
   ]
  },
  {
   "cell_type": "code",
   "execution_count": 1007,
   "metadata": {},
   "outputs": [
    {
     "data": {
      "text/plain": [
       "array([[-9.83990139e-03,  6.78775166e-05, -1.10660923e-03,\n",
       "         4.20773125e-04],\n",
       "       [ 7.93641636e-03, -5.47469144e-05,  8.92540614e-04,\n",
       "        -3.39376441e-04],\n",
       "       [-2.11067811e-02,  1.45598600e-04, -2.37369846e-03,\n",
       "         9.02566589e-04]])"
      ]
     },
     "execution_count": 1007,
     "metadata": {},
     "output_type": "execute_result"
    }
   ],
   "source": [
    "# get the middle component, we simply subtract from sum of two components (dLdWx_comp2 + dLdWx_comp1) the first component\n",
    "fWx1 = lambda Wx: lstm_forward(x[:, -1:, :], next_h_2, Wx, Wh, b, next_c=next_c_2)[0][:, -1, :] # first component\n",
    "fWx3 = lambda Wx: lstm_forward(x[:, 1:, :], next_h_1, Wx, Wh, b, next_c=next_c_1)[0][:, -1, :] # sum of first two components\n",
    "eval_numerical_gradient_array(fWx3, Wx, dout[:, -1, :]) - eval_numerical_gradient_array(fWx1, Wx, dout[:, -1, :])"
   ]
  },
  {
   "cell_type": "code",
   "execution_count": null,
   "metadata": {},
   "outputs": [],
   "source": []
  },
  {
   "cell_type": "code",
   "execution_count": 1008,
   "metadata": {},
   "outputs": [
    {
     "data": {
      "text/plain": [
       "array([[-9.83990139e-03,  6.78775168e-05, -1.10660923e-03,\n",
       "         4.20773125e-04],\n",
       "       [ 7.93641636e-03, -5.47469140e-05,  8.92540613e-04,\n",
       "        -3.39376441e-04],\n",
       "       [-2.11067811e-02,  1.45598602e-04, -2.37369846e-03,\n",
       "         9.02566589e-04]])"
      ]
     },
     "execution_count": 1008,
     "metadata": {},
     "output_type": "execute_result"
    }
   ],
   "source": [
    "# second component\n",
    "dnext_c = np.zeros((h0.shape))\n",
    "dgrad1, dprev_h1, dnext_c1 = dgradmtx(h0, dnext_c, dout[:, -1, :], cache[2][3], cache[2][-5], cache[2][-4],  cache[2][-3], cache[2][-2], cache[2][-1])    \n",
    "dgrad2, dprev_h2, dnext_c2 = dgradmtx(h0, dnext_c1, dprev_h1, cache[1][3], cache[1][-5], cache[1][-4],  cache[1][-3], cache[1][-2], cache[1][-1])      \n",
    "cache[1][0].T @ dgrad2"
   ]
  },
  {
   "cell_type": "code",
   "execution_count": null,
   "metadata": {},
   "outputs": [],
   "source": []
  },
  {
   "cell_type": "code",
   "execution_count": null,
   "metadata": {},
   "outputs": [],
   "source": []
  },
  {
   "cell_type": "code",
   "execution_count": 1009,
   "metadata": {},
   "outputs": [],
   "source": [
    "# last component\n",
    "dnext_c = np.zeros((h0.shape))\n",
    "dgrad1, dprev_h1, dnext_c1 = dgradmtx(h0, dnext_c, dout[:, -1, :], cache[2][3], cache[2][-5], cache[2][-4],  cache[2][-3], cache[2][-2], cache[2][-1])    \n",
    "dgrad2, dprev_h2, dnext_c2 = dgradmtx(h0, dnext_c1, dprev_h1, cache[1][3], cache[1][-5], cache[1][-4],  cache[1][-3], cache[1][-2], cache[1][-1])      \n",
    "dgrad3, dprev_h3, dnext_c3 = dgradmtx(h0, dnext_c2, dprev_h2, cache[0][3], cache[0][-5], cache[0][-4],  cache[0][-3], cache[0][-2], cache[0][-1])      "
   ]
  },
  {
   "cell_type": "code",
   "execution_count": 1010,
   "metadata": {},
   "outputs": [
    {
     "data": {
      "text/plain": [
       "array([[-1.95768947e-05, -1.71179260e-13,  2.77411351e-05,\n",
       "        -9.76467796e-03],\n",
       "       [ 7.37299513e-06, -2.43064032e-13, -1.04477890e-05,\n",
       "         3.67754574e-03],\n",
       "       [ 6.36562140e-06, -1.83183584e-12, -9.02030090e-06,\n",
       "         3.17508036e-03]])"
      ]
     },
     "execution_count": 1010,
     "metadata": {},
     "output_type": "execute_result"
    }
   ],
   "source": [
    "fWx = lambda Wx: lstm_forward(x, h0, Wx, Wh, b)[0][:, -1, :]\n",
    "L3_tot = eval_numerical_gradient_array(fWx, Wx, dout[:, -1, :])\n",
    "L3_tot - cache[1][0].T @ dgrad2 - cache[2][0].T @ dgrad1"
   ]
  },
  {
   "cell_type": "code",
   "execution_count": 1016,
   "metadata": {},
   "outputs": [
    {
     "data": {
      "text/plain": [
       "array([[-1.95768961e-05,  0.00000000e+00,  2.77411349e-05,\n",
       "        -9.76467796e-03],\n",
       "       [ 7.37299593e-06,  0.00000000e+00, -1.04477887e-05,\n",
       "         3.67754574e-03],\n",
       "       [ 6.36561888e-06,  0.00000000e+00, -9.02030083e-06,\n",
       "         3.17508036e-03]])"
      ]
     },
     "execution_count": 1016,
     "metadata": {},
     "output_type": "execute_result"
    }
   ],
   "source": [
    "cache[0][0].T @ dgrad3 "
   ]
  },
  {
   "cell_type": "code",
   "execution_count": 992,
   "metadata": {},
   "outputs": [],
   "source": [
    "# np.allclose(L3_tot - cache[1][0].T @ dgrad2 - cache[2][0].T @ dgrad1, cache[0][0].T @ dgrad3 )"
   ]
  },
  {
   "cell_type": "code",
   "execution_count": 1019,
   "metadata": {},
   "outputs": [
    {
     "data": {
      "text/plain": [
       "array([[-0.03335235,  0.00141845, -0.11263956, -0.06219304],\n",
       "       [ 0.01819299, -0.00064396,  0.04955254,  0.0263946 ],\n",
       "       [-0.02539609,  0.00039255, -0.02278161, -0.00558583]])"
      ]
     },
     "execution_count": 1019,
     "metadata": {},
     "output_type": "execute_result"
    }
   ],
   "source": [
    "L3_tot"
   ]
  },
  {
   "cell_type": "code",
   "execution_count": 1033,
   "metadata": {},
   "outputs": [],
   "source": [
    "# np.allclose(np.sum([losses[2][e] for e in losses[2]], 0), L3_tot)"
   ]
  },
  {
   "cell_type": "code",
   "execution_count": null,
   "metadata": {},
   "outputs": [],
   "source": []
  },
  {
   "cell_type": "code",
   "execution_count": 1023,
   "metadata": {},
   "outputs": [],
   "source": [
    "losses = {i : {x_comp : 0 for x_comp in range(i)} for i in range(T)}\n",
    "for i in range(T-1, -1, -1):\n",
    "    dnext_c = np.zeros((h0.shape))\n",
    "    dprev_h =  dout[:, i, :]\n",
    "    for j in range(i, -1, -1):\n",
    "        # def dgradmtx(h, dnext_c, dnext_h, prev_c, next_c_t, i, f, o, g)\n",
    "        dgrad, dprev_h, dnext_c = dgradmtx(h0, dnext_c, dprev_h, cache[j][3], cache[j][-5], cache[j][-4],  cache[j][-3], cache[j][-2], cache[j][-1]) \n",
    "        losses[i][j] = cache[j][0].T @ dgrad\n",
    "    # break"
   ]
  },
  {
   "cell_type": "code",
   "execution_count": 1031,
   "metadata": {
    "scrolled": true,
    "tags": []
   },
   "outputs": [
    {
     "name": "stdout",
     "output_type": "stream",
     "text": [
      "Loss 0\n",
      "component 0 - 0.09175951479805658\n",
      "Loss 1\n",
      "component 0 - 0.328342993531914\n",
      "component 1 - 0.6867388562834217\n",
      "Loss 2\n",
      "component 0 - 0.009819210665276431\n",
      "component 1 - 0.020492385142131097\n",
      "component 2 - 0.0619135094068817\n",
      "Loss 3\n",
      "component 0 - 0.006802684389668158\n",
      "component 1 - 0.014168432002208587\n",
      "component 2 - 0.017534503067068104\n",
      "component 3 - 0.12003729748087132\n",
      "Loss 4\n",
      "component 0 - 0.006551897919792712\n",
      "component 1 - 0.013646273537779396\n",
      "component 2 - 0.016985547973573215\n",
      "component 3 - 0.11453924637529664\n",
      "component 4 - 0.13527011296301064\n",
      "Loss 5\n",
      "component 0 - 0.015894562054862275\n",
      "component 1 - 0.03310522991818711\n",
      "component 2 - 0.041253705344984154\n",
      "component 3 - 0.27744942691921176\n",
      "component 4 - 0.33559773971184714\n",
      "component 5 - 0.22321271592497258\n",
      "Loss 6\n",
      "component 0 - 0.0031561049940361874\n",
      "component 1 - 0.006573542461387582\n",
      "component 2 - 0.008191440669589328\n",
      "component 3 - 0.055092644507990986\n",
      "component 4 - 0.06653431204983895\n",
      "component 5 - 0.04330085465999622\n",
      "component 6 - 0.1479228661017821\n",
      "Loss 7\n",
      "component 0 - 4.1207767035850004e-05\n",
      "component 1 - 8.582762993153105e-05\n",
      "component 2 - 0.00010695268578233199\n",
      "component 3 - 0.0007193107773405135\n",
      "component 4 - 0.0008696231927190596\n",
      "component 5 - 0.0005728399666797992\n",
      "component 6 - 0.002338641323972674\n",
      "component 7 - 0.06905741258689194\n",
      "Loss 8\n",
      "component 0 - 0.0005180528273272086\n",
      "component 1 - 0.0010790015814326505\n",
      "component 2 - 0.0013445723935744428\n",
      "component 3 - 0.0090430433444473\n",
      "component 4 - 0.010925091362694905\n",
      "component 5 - 0.0071302931520891765\n",
      "component 6 - 0.008955103503802395\n",
      "component 7 - 0.17198293890164282\n",
      "component 8 - 0.13975122550890545\n",
      "Loss 9\n",
      "component 0 - 0.0006417465301905864\n",
      "component 1 - 0.0013366311008002813\n",
      "component 2 - 0.0016656112469285206\n",
      "component 3 - 0.011202220743111585\n",
      "component 4 - 0.013533538215064601\n",
      "component 5 - 0.008832068635615265\n",
      "component 6 - 0.011371396059967691\n",
      "component 7 - 0.20884643235547384\n",
      "component 8 - 0.14761629650376684\n",
      "component 9 - 0.5481110302993656\n"
     ]
    }
   ],
   "source": [
    "for l in losses:\n",
    "    print(f\"Loss {l}\")\n",
    "    for ii, e in losses[l].items():\n",
    "        print(f\"component {ii} - {np.linalg.norm(e)}\")"
   ]
  },
  {
   "cell_type": "code",
   "execution_count": null,
   "metadata": {},
   "outputs": [],
   "source": [
    "# we can see for loss 9, component 0 has very low magnitude - it says how x1 affects L9 which is small. However, it should be less vanishing than for RNN"
   ]
  },
  {
   "cell_type": "code",
   "execution_count": null,
   "metadata": {},
   "outputs": [],
   "source": []
  },
  {
   "cell_type": "code",
   "execution_count": null,
   "metadata": {},
   "outputs": [],
   "source": []
  },
  {
   "cell_type": "markdown",
   "metadata": {},
   "source": [
    "#### LSTM longer sequence"
   ]
  },
  {
   "cell_type": "code",
   "execution_count": 1022,
   "metadata": {},
   "outputs": [],
   "source": [
    "np.random.seed(1)\n",
    "\n",
    "N, D, T, H = 1, 3, 10, 1\n",
    "\n",
    "x = np.random.randn(N, T, D)\n",
    "h0 = np.random.randn(N, H)\n",
    "Wx = np.random.randn(D, 4 * H)\n",
    "Wh = np.random.randn(H, 4 * H)\n",
    "b = np.random.randn(4 * H)\n",
    "\n",
    "out, cache = lstm_forward(x, h0, Wx, Wh, b)\n",
    "\n",
    "dout = np.random.randn(*out.shape)\n",
    "\n",
    "dx, dh0, dWx, dWh, db = lstm_backward(dout, cache)\n",
    "    \n",
    "dh = dout"
   ]
  },
  {
   "cell_type": "code",
   "execution_count": null,
   "metadata": {},
   "outputs": [],
   "source": [
    "# (x, next_h, prev_h, prev_c, Wx, Wh, next_h, next_c_t, i, f, o ,g) = cache\n",
    "losses = {i : {x_comp : 0 for x_comp in range(i)} for i in range(T)}\n",
    "for i in range(T-1, -1, -1):\n",
    "    dnext_c = np.zeros((h0.shape))\n",
    "    dprev_h =  dout[:, i, :]\n",
    "    for j in range(i, -1, -1):\n",
    "        dgrad, dprev_h, dnext_c = dgradmtx(h0, dnext_c, dprev_h, cache[j][3], cache[j][-5], cache[j][-4],  cache[j][-3], cache[j][-2], cache[j][-1]) \n",
    "        losses[i][j] = cache[j][0].T @ dgrad\n",
    "    # break"
   ]
  },
  {
   "cell_type": "code",
   "execution_count": null,
   "metadata": {},
   "outputs": [],
   "source": []
  },
  {
   "cell_type": "code",
   "execution_count": null,
   "metadata": {},
   "outputs": [],
   "source": []
  },
  {
   "cell_type": "code",
   "execution_count": null,
   "metadata": {},
   "outputs": [],
   "source": []
  },
  {
   "cell_type": "markdown",
   "metadata": {},
   "source": [
    "# LSTM Captioning Model\n",
    "\n",
    "Now that you have implemented an LSTM, update the implementation of the `loss` method of the `CaptioningRNN` class in the file `cs231n/classifiers/rnn.py` to handle the case where `self.cell_type` is `lstm`. This should require adding less than 10 lines of code.\n",
    "\n",
    "Once you have done so, run the following to check your implementation. You should see a difference on the order of `e-10` or less."
   ]
  },
  {
   "cell_type": "code",
   "execution_count": 95,
   "metadata": {},
   "outputs": [
    {
     "name": "stdout",
     "output_type": "stream",
     "text": [
      "loss:  9.82445935443226\n",
      "expected loss:  9.82445935443\n",
      "difference:  2.261302256556519e-12\n"
     ]
    }
   ],
   "source": [
    "N, D, W, H = 10, 20, 30, 40\n",
    "word_to_idx = {'<NULL>': 0, 'cat': 2, 'dog': 3}\n",
    "V = len(word_to_idx)\n",
    "T = 13\n",
    "\n",
    "model = CaptioningRNN(\n",
    "    word_to_idx,\n",
    "    input_dim=D,\n",
    "    wordvec_dim=W,\n",
    "    hidden_dim=H,\n",
    "    cell_type='lstm',\n",
    "    dtype=np.float64\n",
    ")\n",
    "\n",
    "# Set all model parameters to fixed values\n",
    "for k, v in model.params.items():\n",
    "    model.params[k] = np.linspace(-1.4, 1.3, num=v.size).reshape(*v.shape)\n",
    "\n",
    "features = np.linspace(-0.5, 1.7, num=N*D).reshape(N, D)\n",
    "captions = (np.arange(N * T) % V).reshape(N, T)\n",
    "\n",
    "loss, grads = model.loss(features, captions)\n",
    "expected_loss = 9.82445935443\n",
    "\n",
    "print('loss: ', loss)\n",
    "print('expected loss: ', expected_loss)\n",
    "print('difference: ', abs(loss - expected_loss))"
   ]
  },
  {
   "cell_type": "markdown",
   "metadata": {},
   "source": [
    "# Overfit LSTM Captioning Model on Small Data\n",
    "Run the following to overfit an LSTM captioning model on the same small dataset as we used for the RNN previously. You should see a final loss less than 0.5."
   ]
  },
  {
   "cell_type": "code",
   "execution_count": 99,
   "metadata": {},
   "outputs": [
    {
     "name": "stdout",
     "output_type": "stream",
     "text": [
      "base dir  C:\\Users\\alexe\\Desktop\\stanford_CV\\assignment3_git\\cs231n\\datasets/coco_captioning\n",
      "(Iteration 1 / 100) loss: 79.551150\n",
      "(Iteration 11 / 100) loss: 43.829098\n",
      "(Iteration 21 / 100) loss: 30.062609\n",
      "(Iteration 31 / 100) loss: 14.020146\n",
      "(Iteration 41 / 100) loss: 6.006055\n",
      "(Iteration 51 / 100) loss: 1.857125\n",
      "(Iteration 61 / 100) loss: 0.639504\n",
      "(Iteration 71 / 100) loss: 0.283837\n",
      "(Iteration 81 / 100) loss: 0.234638\n",
      "(Iteration 91 / 100) loss: 0.121968\n"
     ]
    },
    {
     "data": {
      "image/png": "[encoded data removed]",
      "text/plain": [
       "<Figure size 1000x800 with 1 Axes>"
      ]
     },
     "metadata": {},
     "output_type": "display_data"
    }
   ],
   "source": [
    "np.random.seed(231)\n",
    "\n",
    "small_data = load_coco_data(max_train=50)\n",
    "\n",
    "small_lstm_model = CaptioningRNN(\n",
    "    cell_type='lstm',\n",
    "    word_to_idx=small_data['word_to_idx'],\n",
    "    input_dim=small_data['train_features'].shape[1],\n",
    "    hidden_dim=512,\n",
    "    wordvec_dim=256,\n",
    "    dtype=np.float32,\n",
    ")\n",
    "\n",
    "small_lstm_solver = CaptioningSolver(\n",
    "    small_lstm_model, small_data,\n",
    "    update_rule='adam',\n",
    "    num_epochs=50,\n",
    "    batch_size=25,\n",
    "    optim_config={\n",
    "     'learning_rate': 5e-3,\n",
    "    },\n",
    "    lr_decay=0.995,\n",
    "    verbose=True, print_every=10,\n",
    ")\n",
    "\n",
    "small_lstm_solver.train()\n",
    "\n",
    "# Plot the training losses\n",
    "plt.plot(small_lstm_solver.loss_history)\n",
    "plt.xlabel('Iteration')\n",
    "plt.ylabel('Loss')\n",
    "plt.title('Training loss history')\n",
    "plt.show()"
   ]
  },
  {
   "cell_type": "markdown",
   "metadata": {},
   "source": [
    "Print final training loss. You should see a final loss of less than 0.5."
   ]
  },
  {
   "cell_type": "code",
   "execution_count": 101,
   "metadata": {
    "id": "lstm_final_training_loss"
   },
   "outputs": [
    {
     "name": "stdout",
     "output_type": "stream",
     "text": [
      "Final loss:  0.08004410260627541\n"
     ]
    }
   ],
   "source": [
    "print('Final loss: ', small_lstm_solver.loss_history[-1])"
   ]
  },
  {
   "cell_type": "markdown",
   "metadata": {},
   "source": [
    "# LSTM Sampling at Test Time\n",
    "Modify the `sample` method of the `CaptioningRNN` class to handle the case where `self.cell_type` is `lstm`. This should take fewer than 10 lines of code.\n",
    "\n",
    "When you are done run the following to sample from your overfit LSTM model on some training and validation set samples. As with the RNN, training results should be very good, and validation results probably won't make a lot of sense (because we're overfitting)."
   ]
  },
  {
   "cell_type": "code",
   "execution_count": null,
   "metadata": {},
   "outputs": [],
   "source": [
    "# If you get an error, the URL just no longer exists, so don't worry!\n",
    "# You can re-sample as many times as you want.\n",
    "for split in ['train', 'val']:\n",
    "    minibatch = sample_coco_minibatch(small_data, split=split, batch_size=2)\n",
    "    gt_captions, features, urls = minibatch\n",
    "    gt_captions = decode_captions(gt_captions, data['idx_to_word'])\n",
    "\n",
    "    sample_captions = small_lstm_model.sample(features)\n",
    "    sample_captions = decode_captions(sample_captions, data['idx_to_word'])\n",
    "\n",
    "    for gt_caption, sample_caption, url in zip(gt_captions, sample_captions, urls):\n",
    "        img = image_from_url(url)\n",
    "        # Skip missing URLs.\n",
    "        if img is None: continue\n",
    "        plt.imshow(img) \n",
    "        plt.title('%s\\n%s\\nGT:%s' % (split, sample_caption, gt_caption))\n",
    "        plt.axis('off')\n",
    "        plt.show()"
   ]
  }
 ],
 "metadata": {
  "kernelspec": {
   "display_name": "Python 3 (ipykernel)",
   "language": "python",
   "name": "python3"
  },
  "language_info": {
   "codemirror_mode": {
    "name": "ipython",
    "version": 3
   },
   "file_extension": ".py",
   "mimetype": "text/x-python",
   "name": "python",
   "nbconvert_exporter": "python",
   "pygments_lexer": "ipython3",
   "version": "3.8.13"
  }
 },
 "nbformat": 4,
 "nbformat_minor": 4
}
